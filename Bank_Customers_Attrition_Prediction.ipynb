{
 "cells": [
  {
   "cell_type": "markdown",
   "metadata": {},
   "source": [
    "* Student Name:  Ndanu Mwatu\n",
    "* Student Pace:  Part Time\n",
    "* Date:          24th October 2023\n",
    "* Phase:         Phase 3 Project"
   ]
  },
  {
   "cell_type": "markdown",
   "metadata": {},
   "source": [
    "<img src=\"image_investment-5318530_1280.jpg\" width=\"400\" height=\"50\" align=\"left\">"
   ]
  },
  {
   "cell_type": "markdown",
   "metadata": {},
   "source": [
    "Image by Tumisu from Pixabay"
   ]
  },
  {
   "cell_type": "markdown",
   "metadata": {},
   "source": [
    "<hr style=\"border:1px solid gray\">"
   ]
  },
  {
   "cell_type": "markdown",
   "metadata": {},
   "source": [
    "# Bank Customers Attrition Prediction\n",
    "\n",
    "**Author:** Ndanu Mwatu"
   ]
  },
  {
   "cell_type": "markdown",
   "metadata": {},
   "source": [
    "<hr style=\"border:1px solid gray\">"
   ]
  },
  {
   "cell_type": "markdown",
   "metadata": {},
   "source": [
    "### Outline:\n",
    "1. 0 Overview\n",
    "2. 0 Business Problem\n",
    "3. 0 Data Understanding\n",
    "4. 0 Data Preparation / Preprocessing\n",
    "5. 0 Data Modelling and Evaluation\n",
    "    * 1.Logistic Regression Modelling\n",
    "    * 2.Decision Trees Modelling\n",
    "    * 3.Random Forest Modelling\n",
    "    * 4.Overall Best Model Evaluation\n",
    "6. 0 Conclusions, Recommendations and Next Steps"
   ]
  },
  {
   "cell_type": "markdown",
   "metadata": {},
   "source": [
    "<hr style=\"border:1px solid gray\">"
   ]
  },
  {
   "cell_type": "markdown",
   "metadata": {},
   "source": [
    "## 1.0 Overview\n",
    "\n",
    "This project seeks to create a classification model to be used by the client -ABC Multinational Bank- to predict customer attrition (loss of clients) by analyzing various attributes of account holders at the Bank. "
   ]
  },
  {
   "cell_type": "markdown",
   "metadata": {},
   "source": [
    "<hr style=\"border:1px solid gray\">"
   ]
  },
  {
   "cell_type": "markdown",
   "metadata": {},
   "source": [
    "## 2.0 Business Problem\n",
    "\n",
    "In the recent years, ABC Multinational Bank has grown concerned over the rate of customers who exit the Bank, leading to declining profits, inability to plan for the long term, and the risk of compromised credit facilities.The Bank's management has sadly noted that about 1 in 5 customers has been leaving the Bank, but they are unable to know exactly who will leave.\n",
    "\n",
    "The Bank wants to design intervention measures to mitigate against loss of customers to their competitors, thereby ensuring maximum customer retention. Additionally, such insights would guide the Bank in mitigation against the risk of clients leaving without complete loan payments. \n",
    "\n",
    "As such, the Bank has provided data on their account holders; including past customers who have left the Bank or remained. The task is to create a classificaton model that would help the client identify customers who may leave -early enough, before they leave- that the Bank may apply appropriate mitigation measures to attract them to stay on."
   ]
  },
  {
   "cell_type": "markdown",
   "metadata": {},
   "source": [
    "<hr style=\"border:1px solid gray\">"
   ]
  },
  {
   "cell_type": "markdown",
   "metadata": {},
   "source": [
    "## 3.0 Data Understanding"
   ]
  },
  {
   "cell_type": "markdown",
   "metadata": {},
   "source": [
    "<img src=\"image_finance-586405_1280.jpg\" width=\"350\" height=\"50\" align=\"left\">"
   ]
  },
  {
   "cell_type": "markdown",
   "metadata": {},
   "source": [
    "Image by Gerd Altmann from Pixabay"
   ]
  },
  {
   "cell_type": "markdown",
   "metadata": {},
   "source": [
    "**Introduction**\n",
    "\n",
    "This project will utilize customer data of account holders at ABC Multinational Bank, downloaded from [Kaggle](https://www.kaggle.com/datasets/gauravtopre/bank-customer-churn-dataset) to predict customer attrition (loss of clients). The dataset contains customer attributes such as credit_score, gender, age, balance, estimated salary amongst others; as well as information on customers who have left or stayed in the Bank (Churn).\n",
    "\n",
    "In this section, we shall begin by importing necessary libraries and functions; load the data;\n",
    "and explore the dataset to gain a deeper understanding of it."
   ]
  },
  {
   "cell_type": "code",
   "execution_count": 2,
   "metadata": {},
   "outputs": [],
   "source": [
    "# Load necessary libraries\n",
    "import pandas as pd\n",
    "import numpy as np\n",
    "import matplotlib.pyplot as plt\n",
    "import seaborn as sns\n",
    "\n",
    "from sklearn.model_selection import train_test_split\n",
    "from sklearn.preprocessing import OneHotEncoder\n",
    "from sklearn.preprocessing import StandardScaler\n",
    "from sklearn.linear_model import LogisticRegression\n",
    "from sklearn.model_selection import cross_val_score, GridSearchCV\n",
    "from sklearn.metrics import log_loss\n",
    "from imblearn.over_sampling import SMOTE\n",
    "from sklearn.metrics import precision_score, recall_score, accuracy_score, f1_score, log_loss\n",
    "from sklearn.metrics import roc_curve, auc\n",
    "from sklearn.metrics import confusion_matrix, ConfusionMatrixDisplay\n",
    "from sklearn.tree import DecisionTreeClassifier\n",
    "from sklearn.ensemble import RandomForestClassifier\n",
    "\n",
    "%matplotlib inline"
   ]
  },
  {
   "cell_type": "code",
   "execution_count": 3,
   "metadata": {},
   "outputs": [
    {
     "data": {
      "text/html": [
       "<div>\n",
       "<style scoped>\n",
       "    .dataframe tbody tr th:only-of-type {\n",
       "        vertical-align: middle;\n",
       "    }\n",
       "\n",
       "    .dataframe tbody tr th {\n",
       "        vertical-align: top;\n",
       "    }\n",
       "\n",
       "    .dataframe thead th {\n",
       "        text-align: right;\n",
       "    }\n",
       "</style>\n",
       "<table border=\"1\" class=\"dataframe\">\n",
       "  <thead>\n",
       "    <tr style=\"text-align: right;\">\n",
       "      <th></th>\n",
       "      <th>customer_id</th>\n",
       "      <th>credit_score</th>\n",
       "      <th>country</th>\n",
       "      <th>gender</th>\n",
       "      <th>age</th>\n",
       "      <th>tenure</th>\n",
       "      <th>balance</th>\n",
       "      <th>products_number</th>\n",
       "      <th>credit_card</th>\n",
       "      <th>active_member</th>\n",
       "      <th>estimated_salary</th>\n",
       "      <th>churn</th>\n",
       "    </tr>\n",
       "  </thead>\n",
       "  <tbody>\n",
       "    <tr>\n",
       "      <th>0</th>\n",
       "      <td>15634602</td>\n",
       "      <td>619</td>\n",
       "      <td>France</td>\n",
       "      <td>Female</td>\n",
       "      <td>42</td>\n",
       "      <td>2</td>\n",
       "      <td>0.00</td>\n",
       "      <td>1</td>\n",
       "      <td>1</td>\n",
       "      <td>1</td>\n",
       "      <td>101348.88</td>\n",
       "      <td>1</td>\n",
       "    </tr>\n",
       "    <tr>\n",
       "      <th>1</th>\n",
       "      <td>15647311</td>\n",
       "      <td>608</td>\n",
       "      <td>Spain</td>\n",
       "      <td>Female</td>\n",
       "      <td>41</td>\n",
       "      <td>1</td>\n",
       "      <td>83807.86</td>\n",
       "      <td>1</td>\n",
       "      <td>0</td>\n",
       "      <td>1</td>\n",
       "      <td>112542.58</td>\n",
       "      <td>0</td>\n",
       "    </tr>\n",
       "    <tr>\n",
       "      <th>2</th>\n",
       "      <td>15619304</td>\n",
       "      <td>502</td>\n",
       "      <td>France</td>\n",
       "      <td>Female</td>\n",
       "      <td>42</td>\n",
       "      <td>8</td>\n",
       "      <td>159660.80</td>\n",
       "      <td>3</td>\n",
       "      <td>1</td>\n",
       "      <td>0</td>\n",
       "      <td>113931.57</td>\n",
       "      <td>1</td>\n",
       "    </tr>\n",
       "    <tr>\n",
       "      <th>3</th>\n",
       "      <td>15701354</td>\n",
       "      <td>699</td>\n",
       "      <td>France</td>\n",
       "      <td>Female</td>\n",
       "      <td>39</td>\n",
       "      <td>1</td>\n",
       "      <td>0.00</td>\n",
       "      <td>2</td>\n",
       "      <td>0</td>\n",
       "      <td>0</td>\n",
       "      <td>93826.63</td>\n",
       "      <td>0</td>\n",
       "    </tr>\n",
       "    <tr>\n",
       "      <th>4</th>\n",
       "      <td>15737888</td>\n",
       "      <td>850</td>\n",
       "      <td>Spain</td>\n",
       "      <td>Female</td>\n",
       "      <td>43</td>\n",
       "      <td>2</td>\n",
       "      <td>125510.82</td>\n",
       "      <td>1</td>\n",
       "      <td>1</td>\n",
       "      <td>1</td>\n",
       "      <td>79084.10</td>\n",
       "      <td>0</td>\n",
       "    </tr>\n",
       "    <tr>\n",
       "      <th>...</th>\n",
       "      <td>...</td>\n",
       "      <td>...</td>\n",
       "      <td>...</td>\n",
       "      <td>...</td>\n",
       "      <td>...</td>\n",
       "      <td>...</td>\n",
       "      <td>...</td>\n",
       "      <td>...</td>\n",
       "      <td>...</td>\n",
       "      <td>...</td>\n",
       "      <td>...</td>\n",
       "      <td>...</td>\n",
       "    </tr>\n",
       "    <tr>\n",
       "      <th>9995</th>\n",
       "      <td>15606229</td>\n",
       "      <td>771</td>\n",
       "      <td>France</td>\n",
       "      <td>Male</td>\n",
       "      <td>39</td>\n",
       "      <td>5</td>\n",
       "      <td>0.00</td>\n",
       "      <td>2</td>\n",
       "      <td>1</td>\n",
       "      <td>0</td>\n",
       "      <td>96270.64</td>\n",
       "      <td>0</td>\n",
       "    </tr>\n",
       "    <tr>\n",
       "      <th>9996</th>\n",
       "      <td>15569892</td>\n",
       "      <td>516</td>\n",
       "      <td>France</td>\n",
       "      <td>Male</td>\n",
       "      <td>35</td>\n",
       "      <td>10</td>\n",
       "      <td>57369.61</td>\n",
       "      <td>1</td>\n",
       "      <td>1</td>\n",
       "      <td>1</td>\n",
       "      <td>101699.77</td>\n",
       "      <td>0</td>\n",
       "    </tr>\n",
       "    <tr>\n",
       "      <th>9997</th>\n",
       "      <td>15584532</td>\n",
       "      <td>709</td>\n",
       "      <td>France</td>\n",
       "      <td>Female</td>\n",
       "      <td>36</td>\n",
       "      <td>7</td>\n",
       "      <td>0.00</td>\n",
       "      <td>1</td>\n",
       "      <td>0</td>\n",
       "      <td>1</td>\n",
       "      <td>42085.58</td>\n",
       "      <td>1</td>\n",
       "    </tr>\n",
       "    <tr>\n",
       "      <th>9998</th>\n",
       "      <td>15682355</td>\n",
       "      <td>772</td>\n",
       "      <td>Germany</td>\n",
       "      <td>Male</td>\n",
       "      <td>42</td>\n",
       "      <td>3</td>\n",
       "      <td>75075.31</td>\n",
       "      <td>2</td>\n",
       "      <td>1</td>\n",
       "      <td>0</td>\n",
       "      <td>92888.52</td>\n",
       "      <td>1</td>\n",
       "    </tr>\n",
       "    <tr>\n",
       "      <th>9999</th>\n",
       "      <td>15628319</td>\n",
       "      <td>792</td>\n",
       "      <td>France</td>\n",
       "      <td>Female</td>\n",
       "      <td>28</td>\n",
       "      <td>4</td>\n",
       "      <td>130142.79</td>\n",
       "      <td>1</td>\n",
       "      <td>1</td>\n",
       "      <td>0</td>\n",
       "      <td>38190.78</td>\n",
       "      <td>0</td>\n",
       "    </tr>\n",
       "  </tbody>\n",
       "</table>\n",
       "<p>10000 rows × 12 columns</p>\n",
       "</div>"
      ],
      "text/plain": [
       "      customer_id  credit_score  country  gender  age  tenure    balance  \\\n",
       "0        15634602           619   France  Female   42       2       0.00   \n",
       "1        15647311           608    Spain  Female   41       1   83807.86   \n",
       "2        15619304           502   France  Female   42       8  159660.80   \n",
       "3        15701354           699   France  Female   39       1       0.00   \n",
       "4        15737888           850    Spain  Female   43       2  125510.82   \n",
       "...           ...           ...      ...     ...  ...     ...        ...   \n",
       "9995     15606229           771   France    Male   39       5       0.00   \n",
       "9996     15569892           516   France    Male   35      10   57369.61   \n",
       "9997     15584532           709   France  Female   36       7       0.00   \n",
       "9998     15682355           772  Germany    Male   42       3   75075.31   \n",
       "9999     15628319           792   France  Female   28       4  130142.79   \n",
       "\n",
       "      products_number  credit_card  active_member  estimated_salary  churn  \n",
       "0                   1            1              1         101348.88      1  \n",
       "1                   1            0              1         112542.58      0  \n",
       "2                   3            1              0         113931.57      1  \n",
       "3                   2            0              0          93826.63      0  \n",
       "4                   1            1              1          79084.10      0  \n",
       "...               ...          ...            ...               ...    ...  \n",
       "9995                2            1              0          96270.64      0  \n",
       "9996                1            1              1         101699.77      0  \n",
       "9997                1            0              1          42085.58      1  \n",
       "9998                2            1              0          92888.52      1  \n",
       "9999                1            1              0          38190.78      0  \n",
       "\n",
       "[10000 rows x 12 columns]"
      ]
     },
     "execution_count": 3,
     "metadata": {},
     "output_type": "execute_result"
    }
   ],
   "source": [
    "# Load the dataset\n",
    "df = pd.read_csv('Bank Customer Churn Prediction.csv')\n",
    "#preview the dataset\n",
    "df"
   ]
  },
  {
   "cell_type": "markdown",
   "metadata": {},
   "source": [
    "As can be seen from the dataframe, our dataset contains 10,000 rows each having 11 feature columns and 1 target column. The target column 'churn', is a 1 if the client has left the bank during some period or 0 if he/she has not.\n",
    "\n",
    "We continue the data exploration."
   ]
  },
  {
   "cell_type": "code",
   "execution_count": 4,
   "metadata": {},
   "outputs": [
    {
     "name": "stdout",
     "output_type": "stream",
     "text": [
      "<class 'pandas.core.frame.DataFrame'>\n",
      "RangeIndex: 10000 entries, 0 to 9999\n",
      "Data columns (total 12 columns):\n",
      " #   Column            Non-Null Count  Dtype  \n",
      "---  ------            --------------  -----  \n",
      " 0   customer_id       10000 non-null  int64  \n",
      " 1   credit_score      10000 non-null  int64  \n",
      " 2   country           10000 non-null  object \n",
      " 3   gender            10000 non-null  object \n",
      " 4   age               10000 non-null  int64  \n",
      " 5   tenure            10000 non-null  int64  \n",
      " 6   balance           10000 non-null  float64\n",
      " 7   products_number   10000 non-null  int64  \n",
      " 8   credit_card       10000 non-null  int64  \n",
      " 9   active_member     10000 non-null  int64  \n",
      " 10  estimated_salary  10000 non-null  float64\n",
      " 11  churn             10000 non-null  int64  \n",
      "dtypes: float64(2), int64(8), object(2)\n",
      "memory usage: 937.6+ KB\n"
     ]
    }
   ],
   "source": [
    "# Check dataset information \n",
    "df.info()"
   ]
  },
  {
   "cell_type": "markdown",
   "metadata": {},
   "source": [
    "From the information about the features, we note that:\n",
    "* Some features are categorical (type object) while others are numeric (type int64 and float64)\n",
    "* There are no missing values in any of the columns\n",
    "\n",
    "We then get a summary of descriptive statistics."
   ]
  },
  {
   "cell_type": "code",
   "execution_count": 5,
   "metadata": {},
   "outputs": [
    {
     "data": {
      "text/html": [
       "<div>\n",
       "<style scoped>\n",
       "    .dataframe tbody tr th:only-of-type {\n",
       "        vertical-align: middle;\n",
       "    }\n",
       "\n",
       "    .dataframe tbody tr th {\n",
       "        vertical-align: top;\n",
       "    }\n",
       "\n",
       "    .dataframe thead th {\n",
       "        text-align: right;\n",
       "    }\n",
       "</style>\n",
       "<table border=\"1\" class=\"dataframe\">\n",
       "  <thead>\n",
       "    <tr style=\"text-align: right;\">\n",
       "      <th></th>\n",
       "      <th>customer_id</th>\n",
       "      <th>credit_score</th>\n",
       "      <th>age</th>\n",
       "      <th>tenure</th>\n",
       "      <th>balance</th>\n",
       "      <th>products_number</th>\n",
       "      <th>credit_card</th>\n",
       "      <th>active_member</th>\n",
       "      <th>estimated_salary</th>\n",
       "      <th>churn</th>\n",
       "    </tr>\n",
       "  </thead>\n",
       "  <tbody>\n",
       "    <tr>\n",
       "      <th>count</th>\n",
       "      <td>1.000000e+04</td>\n",
       "      <td>10000.000000</td>\n",
       "      <td>10000.000000</td>\n",
       "      <td>10000.000000</td>\n",
       "      <td>10000.000000</td>\n",
       "      <td>10000.000000</td>\n",
       "      <td>10000.00000</td>\n",
       "      <td>10000.000000</td>\n",
       "      <td>10000.000000</td>\n",
       "      <td>10000.000000</td>\n",
       "    </tr>\n",
       "    <tr>\n",
       "      <th>mean</th>\n",
       "      <td>1.569094e+07</td>\n",
       "      <td>650.528800</td>\n",
       "      <td>38.921800</td>\n",
       "      <td>5.012800</td>\n",
       "      <td>76485.889288</td>\n",
       "      <td>1.530200</td>\n",
       "      <td>0.70550</td>\n",
       "      <td>0.515100</td>\n",
       "      <td>100090.239881</td>\n",
       "      <td>0.203700</td>\n",
       "    </tr>\n",
       "    <tr>\n",
       "      <th>std</th>\n",
       "      <td>7.193619e+04</td>\n",
       "      <td>96.653299</td>\n",
       "      <td>10.487806</td>\n",
       "      <td>2.892174</td>\n",
       "      <td>62397.405202</td>\n",
       "      <td>0.581654</td>\n",
       "      <td>0.45584</td>\n",
       "      <td>0.499797</td>\n",
       "      <td>57510.492818</td>\n",
       "      <td>0.402769</td>\n",
       "    </tr>\n",
       "    <tr>\n",
       "      <th>min</th>\n",
       "      <td>1.556570e+07</td>\n",
       "      <td>350.000000</td>\n",
       "      <td>18.000000</td>\n",
       "      <td>0.000000</td>\n",
       "      <td>0.000000</td>\n",
       "      <td>1.000000</td>\n",
       "      <td>0.00000</td>\n",
       "      <td>0.000000</td>\n",
       "      <td>11.580000</td>\n",
       "      <td>0.000000</td>\n",
       "    </tr>\n",
       "    <tr>\n",
       "      <th>25%</th>\n",
       "      <td>1.562853e+07</td>\n",
       "      <td>584.000000</td>\n",
       "      <td>32.000000</td>\n",
       "      <td>3.000000</td>\n",
       "      <td>0.000000</td>\n",
       "      <td>1.000000</td>\n",
       "      <td>0.00000</td>\n",
       "      <td>0.000000</td>\n",
       "      <td>51002.110000</td>\n",
       "      <td>0.000000</td>\n",
       "    </tr>\n",
       "    <tr>\n",
       "      <th>50%</th>\n",
       "      <td>1.569074e+07</td>\n",
       "      <td>652.000000</td>\n",
       "      <td>37.000000</td>\n",
       "      <td>5.000000</td>\n",
       "      <td>97198.540000</td>\n",
       "      <td>1.000000</td>\n",
       "      <td>1.00000</td>\n",
       "      <td>1.000000</td>\n",
       "      <td>100193.915000</td>\n",
       "      <td>0.000000</td>\n",
       "    </tr>\n",
       "    <tr>\n",
       "      <th>75%</th>\n",
       "      <td>1.575323e+07</td>\n",
       "      <td>718.000000</td>\n",
       "      <td>44.000000</td>\n",
       "      <td>7.000000</td>\n",
       "      <td>127644.240000</td>\n",
       "      <td>2.000000</td>\n",
       "      <td>1.00000</td>\n",
       "      <td>1.000000</td>\n",
       "      <td>149388.247500</td>\n",
       "      <td>0.000000</td>\n",
       "    </tr>\n",
       "    <tr>\n",
       "      <th>max</th>\n",
       "      <td>1.581569e+07</td>\n",
       "      <td>850.000000</td>\n",
       "      <td>92.000000</td>\n",
       "      <td>10.000000</td>\n",
       "      <td>250898.090000</td>\n",
       "      <td>4.000000</td>\n",
       "      <td>1.00000</td>\n",
       "      <td>1.000000</td>\n",
       "      <td>199992.480000</td>\n",
       "      <td>1.000000</td>\n",
       "    </tr>\n",
       "  </tbody>\n",
       "</table>\n",
       "</div>"
      ],
      "text/plain": [
       "        customer_id  credit_score           age        tenure        balance  \\\n",
       "count  1.000000e+04  10000.000000  10000.000000  10000.000000   10000.000000   \n",
       "mean   1.569094e+07    650.528800     38.921800      5.012800   76485.889288   \n",
       "std    7.193619e+04     96.653299     10.487806      2.892174   62397.405202   \n",
       "min    1.556570e+07    350.000000     18.000000      0.000000       0.000000   \n",
       "25%    1.562853e+07    584.000000     32.000000      3.000000       0.000000   \n",
       "50%    1.569074e+07    652.000000     37.000000      5.000000   97198.540000   \n",
       "75%    1.575323e+07    718.000000     44.000000      7.000000  127644.240000   \n",
       "max    1.581569e+07    850.000000     92.000000     10.000000  250898.090000   \n",
       "\n",
       "       products_number  credit_card  active_member  estimated_salary  \\\n",
       "count     10000.000000  10000.00000   10000.000000      10000.000000   \n",
       "mean          1.530200      0.70550       0.515100     100090.239881   \n",
       "std           0.581654      0.45584       0.499797      57510.492818   \n",
       "min           1.000000      0.00000       0.000000         11.580000   \n",
       "25%           1.000000      0.00000       0.000000      51002.110000   \n",
       "50%           1.000000      1.00000       1.000000     100193.915000   \n",
       "75%           2.000000      1.00000       1.000000     149388.247500   \n",
       "max           4.000000      1.00000       1.000000     199992.480000   \n",
       "\n",
       "              churn  \n",
       "count  10000.000000  \n",
       "mean       0.203700  \n",
       "std        0.402769  \n",
       "min        0.000000  \n",
       "25%        0.000000  \n",
       "50%        0.000000  \n",
       "75%        0.000000  \n",
       "max        1.000000  "
      ]
     },
     "execution_count": 5,
     "metadata": {},
     "output_type": "execute_result"
    }
   ],
   "source": [
    "# Get a summary of descriptive statistics\n",
    "df.describe()"
   ]
  },
  {
   "cell_type": "markdown",
   "metadata": {},
   "source": [
    "We note from the descriptive statistics that;\n",
    "* The features in the numeric columns are not in the same scale"
   ]
  },
  {
   "cell_type": "code",
   "execution_count": 6,
   "metadata": {},
   "outputs": [
    {
     "name": "stdout",
     "output_type": "stream",
     "text": [
      "Raw Counts:\n",
      "0    7963\n",
      "1    2037\n",
      "Name: churn, dtype: int64\n",
      "\n",
      "Percentages:\n",
      "0    0.7963\n",
      "1    0.2037\n",
      "Name: churn, dtype: float64\n"
     ]
    }
   ],
   "source": [
    "# Exploring the distribution of the target feature (Churn)\n",
    "print(\"Raw Counts:\")\n",
    "print(df[\"churn\"].value_counts())\n",
    "print()\n",
    "print(\"Percentages:\")\n",
    "print(df[\"churn\"].value_counts(normalize=True))"
   ]
  },
  {
   "cell_type": "markdown",
   "metadata": {},
   "source": [
    "We note that:\n",
    "\n",
    "* This is an imbalanced dataset, since customers who have left the bank are relatively fewer than those who stay. \n",
    "\n",
    "* About 20% of customers have left the bank at some point, while 79.6% have not left. \n",
    "\n",
    "* Therefore, if we had a 'dummy' model, that always predicted that no customer would leave the bank(class 0), it would be 79.6% accurate."
   ]
  },
  {
   "cell_type": "markdown",
   "metadata": {},
   "source": [
    "<hr style=\"border:1px solid gray\">"
   ]
  },
  {
   "cell_type": "markdown",
   "metadata": {},
   "source": [
    "## 4.0 Data Preparation / Preprocessing\n",
    "\n",
    "**Introduction**\n",
    "\n",
    "To prepare the data for analysis, the following steps are carried out;\n",
    "* Define X (predictors) and y (target)\n",
    "* Split the data into training and test sets \n",
    "* Preprocessing/cleaning:\n",
    "    * check for missing values\n",
    "    * deal with categorical data using one hot encoding \n",
    "    * Normalize/standardize numeric features\n",
    "\n",
    "Preprocessing is carried out after splitting the data i.e. separately for the train and test sets; to prevent data leakage into the test sets."
   ]
  },
  {
   "cell_type": "markdown",
   "metadata": {},
   "source": [
    "**4.1 Define X and y**\n",
    "\n",
    "* We set y as the as the target variable 'churn'\n",
    "* We set X as the predictors. We exclude the target variable. We also exclude customer_id column as it's not a true feature.\n"
   ]
  },
  {
   "cell_type": "code",
   "execution_count": 7,
   "metadata": {},
   "outputs": [],
   "source": [
    "y = df['churn']\n",
    "X = df.drop(columns=['churn', 'customer_id'], axis=1)"
   ]
  },
  {
   "cell_type": "markdown",
   "metadata": {},
   "source": [
    "**4.2 Split the data into training and test sets**\n",
    "\n",
    "We use a random_state of 42 for reproducibility; and the default 75% train/25% test proportions."
   ]
  },
  {
   "cell_type": "code",
   "execution_count": 8,
   "metadata": {},
   "outputs": [],
   "source": [
    "# split the data into train and test sets\n",
    "X_train, X_test, y_train, y_test = train_test_split(X, y, random_state=42)"
   ]
  },
  {
   "cell_type": "markdown",
   "metadata": {},
   "source": [
    "**4.3 Preprocessing**\n",
    "\n",
    "Preprocessing is done for the separate train and test sets to avoid data leakage thus allow proper generalizing\n",
    "\n",
    "**i. Check for missing data**"
   ]
  },
  {
   "cell_type": "code",
   "execution_count": 9,
   "metadata": {},
   "outputs": [
    {
     "data": {
      "text/plain": [
       "credit_score        0\n",
       "country             0\n",
       "gender              0\n",
       "age                 0\n",
       "tenure              0\n",
       "balance             0\n",
       "products_number     0\n",
       "credit_card         0\n",
       "active_member       0\n",
       "estimated_salary    0\n",
       "dtype: int64"
      ]
     },
     "execution_count": 9,
     "metadata": {},
     "output_type": "execute_result"
    }
   ],
   "source": [
    "# From the EDA stage, we saw there was no missing data and this is confirmed;\n",
    "X_train.isna().sum()"
   ]
  },
  {
   "cell_type": "markdown",
   "metadata": {},
   "source": [
    "**ii. Deal with categorical data - using one hot encoding**\n",
    "\n",
    "As seen during EDA, some features have categorical data (object data type) and need to be converted to numeric data types for modelling purposes, using dummy one hot encoded variables. \n"
   ]
  },
  {
   "cell_type": "code",
   "execution_count": 10,
   "metadata": {},
   "outputs": [
    {
     "name": "stdout",
     "output_type": "stream",
     "text": [
      "<class 'pandas.core.frame.DataFrame'>\n",
      "Int64Index: 7500 entries, 4901 to 7270\n",
      "Data columns (total 10 columns):\n",
      " #   Column            Non-Null Count  Dtype  \n",
      "---  ------            --------------  -----  \n",
      " 0   credit_score      7500 non-null   int64  \n",
      " 1   country           7500 non-null   object \n",
      " 2   gender            7500 non-null   object \n",
      " 3   age               7500 non-null   int64  \n",
      " 4   tenure            7500 non-null   int64  \n",
      " 5   balance           7500 non-null   float64\n",
      " 6   products_number   7500 non-null   int64  \n",
      " 7   credit_card       7500 non-null   int64  \n",
      " 8   active_member     7500 non-null   int64  \n",
      " 9   estimated_salary  7500 non-null   float64\n",
      "dtypes: float64(2), int64(6), object(2)\n",
      "memory usage: 644.5+ KB\n"
     ]
    }
   ],
   "source": [
    "#check categorical and numeric columns\n",
    "X_train.info() #preprocessing to be done separately for train and test data to avoid data leakage"
   ]
  },
  {
   "cell_type": "code",
   "execution_count": 11,
   "metadata": {},
   "outputs": [
    {
     "data": {
      "text/html": [
       "<div>\n",
       "<style scoped>\n",
       "    .dataframe tbody tr th:only-of-type {\n",
       "        vertical-align: middle;\n",
       "    }\n",
       "\n",
       "    .dataframe tbody tr th {\n",
       "        vertical-align: top;\n",
       "    }\n",
       "\n",
       "    .dataframe thead th {\n",
       "        text-align: right;\n",
       "    }\n",
       "</style>\n",
       "<table border=\"1\" class=\"dataframe\">\n",
       "  <thead>\n",
       "    <tr style=\"text-align: right;\">\n",
       "      <th></th>\n",
       "      <th>country</th>\n",
       "      <th>gender</th>\n",
       "    </tr>\n",
       "  </thead>\n",
       "  <tbody>\n",
       "    <tr>\n",
       "      <th>4901</th>\n",
       "      <td>France</td>\n",
       "      <td>Male</td>\n",
       "    </tr>\n",
       "    <tr>\n",
       "      <th>4375</th>\n",
       "      <td>Germany</td>\n",
       "      <td>Male</td>\n",
       "    </tr>\n",
       "    <tr>\n",
       "      <th>6698</th>\n",
       "      <td>France</td>\n",
       "      <td>Female</td>\n",
       "    </tr>\n",
       "    <tr>\n",
       "      <th>9805</th>\n",
       "      <td>France</td>\n",
       "      <td>Male</td>\n",
       "    </tr>\n",
       "    <tr>\n",
       "      <th>1101</th>\n",
       "      <td>Spain</td>\n",
       "      <td>Male</td>\n",
       "    </tr>\n",
       "    <tr>\n",
       "      <th>...</th>\n",
       "      <td>...</td>\n",
       "      <td>...</td>\n",
       "    </tr>\n",
       "    <tr>\n",
       "      <th>5734</th>\n",
       "      <td>France</td>\n",
       "      <td>Male</td>\n",
       "    </tr>\n",
       "    <tr>\n",
       "      <th>5191</th>\n",
       "      <td>France</td>\n",
       "      <td>Female</td>\n",
       "    </tr>\n",
       "    <tr>\n",
       "      <th>5390</th>\n",
       "      <td>France</td>\n",
       "      <td>Female</td>\n",
       "    </tr>\n",
       "    <tr>\n",
       "      <th>860</th>\n",
       "      <td>France</td>\n",
       "      <td>Male</td>\n",
       "    </tr>\n",
       "    <tr>\n",
       "      <th>7270</th>\n",
       "      <td>Germany</td>\n",
       "      <td>Male</td>\n",
       "    </tr>\n",
       "  </tbody>\n",
       "</table>\n",
       "<p>7500 rows × 2 columns</p>\n",
       "</div>"
      ],
      "text/plain": [
       "      country  gender\n",
       "4901   France    Male\n",
       "4375  Germany    Male\n",
       "6698   France  Female\n",
       "9805   France    Male\n",
       "1101    Spain    Male\n",
       "...       ...     ...\n",
       "5734   France    Male\n",
       "5191   France  Female\n",
       "5390   France  Female\n",
       "860    France    Male\n",
       "7270  Germany    Male\n",
       "\n",
       "[7500 rows x 2 columns]"
      ]
     },
     "execution_count": 11,
     "metadata": {},
     "output_type": "execute_result"
    }
   ],
   "source": [
    "# Separate the categorical data columns\n",
    "X_train_categorical = X_train.select_dtypes(exclude=[\"int64\", \"float64\"]).copy()\n",
    "X_train_categorical"
   ]
  },
  {
   "cell_type": "code",
   "execution_count": 12,
   "metadata": {},
   "outputs": [
    {
     "data": {
      "text/html": [
       "<div>\n",
       "<style scoped>\n",
       "    .dataframe tbody tr th:only-of-type {\n",
       "        vertical-align: middle;\n",
       "    }\n",
       "\n",
       "    .dataframe tbody tr th {\n",
       "        vertical-align: top;\n",
       "    }\n",
       "\n",
       "    .dataframe thead th {\n",
       "        text-align: right;\n",
       "    }\n",
       "</style>\n",
       "<table border=\"1\" class=\"dataframe\">\n",
       "  <thead>\n",
       "    <tr style=\"text-align: right;\">\n",
       "      <th></th>\n",
       "      <th>credit_score</th>\n",
       "      <th>age</th>\n",
       "      <th>tenure</th>\n",
       "      <th>balance</th>\n",
       "      <th>products_number</th>\n",
       "      <th>credit_card</th>\n",
       "      <th>active_member</th>\n",
       "      <th>estimated_salary</th>\n",
       "    </tr>\n",
       "  </thead>\n",
       "  <tbody>\n",
       "    <tr>\n",
       "      <th>4901</th>\n",
       "      <td>673</td>\n",
       "      <td>59</td>\n",
       "      <td>0</td>\n",
       "      <td>178058.06</td>\n",
       "      <td>2</td>\n",
       "      <td>0</td>\n",
       "      <td>1</td>\n",
       "      <td>21063.71</td>\n",
       "    </tr>\n",
       "    <tr>\n",
       "      <th>4375</th>\n",
       "      <td>850</td>\n",
       "      <td>41</td>\n",
       "      <td>8</td>\n",
       "      <td>60880.68</td>\n",
       "      <td>1</td>\n",
       "      <td>1</td>\n",
       "      <td>0</td>\n",
       "      <td>31825.84</td>\n",
       "    </tr>\n",
       "    <tr>\n",
       "      <th>6698</th>\n",
       "      <td>725</td>\n",
       "      <td>31</td>\n",
       "      <td>6</td>\n",
       "      <td>0.00</td>\n",
       "      <td>1</td>\n",
       "      <td>0</td>\n",
       "      <td>0</td>\n",
       "      <td>61326.43</td>\n",
       "    </tr>\n",
       "    <tr>\n",
       "      <th>9805</th>\n",
       "      <td>644</td>\n",
       "      <td>33</td>\n",
       "      <td>7</td>\n",
       "      <td>174571.36</td>\n",
       "      <td>1</td>\n",
       "      <td>0</td>\n",
       "      <td>1</td>\n",
       "      <td>43943.09</td>\n",
       "    </tr>\n",
       "    <tr>\n",
       "      <th>1101</th>\n",
       "      <td>703</td>\n",
       "      <td>29</td>\n",
       "      <td>9</td>\n",
       "      <td>0.00</td>\n",
       "      <td>2</td>\n",
       "      <td>1</td>\n",
       "      <td>0</td>\n",
       "      <td>50679.48</td>\n",
       "    </tr>\n",
       "    <tr>\n",
       "      <th>...</th>\n",
       "      <td>...</td>\n",
       "      <td>...</td>\n",
       "      <td>...</td>\n",
       "      <td>...</td>\n",
       "      <td>...</td>\n",
       "      <td>...</td>\n",
       "      <td>...</td>\n",
       "      <td>...</td>\n",
       "    </tr>\n",
       "    <tr>\n",
       "      <th>5734</th>\n",
       "      <td>768</td>\n",
       "      <td>54</td>\n",
       "      <td>8</td>\n",
       "      <td>69712.74</td>\n",
       "      <td>1</td>\n",
       "      <td>1</td>\n",
       "      <td>1</td>\n",
       "      <td>69381.05</td>\n",
       "    </tr>\n",
       "    <tr>\n",
       "      <th>5191</th>\n",
       "      <td>682</td>\n",
       "      <td>58</td>\n",
       "      <td>1</td>\n",
       "      <td>0.00</td>\n",
       "      <td>1</td>\n",
       "      <td>1</td>\n",
       "      <td>1</td>\n",
       "      <td>706.50</td>\n",
       "    </tr>\n",
       "    <tr>\n",
       "      <th>5390</th>\n",
       "      <td>735</td>\n",
       "      <td>38</td>\n",
       "      <td>1</td>\n",
       "      <td>0.00</td>\n",
       "      <td>3</td>\n",
       "      <td>0</td>\n",
       "      <td>0</td>\n",
       "      <td>92220.12</td>\n",
       "    </tr>\n",
       "    <tr>\n",
       "      <th>860</th>\n",
       "      <td>667</td>\n",
       "      <td>43</td>\n",
       "      <td>8</td>\n",
       "      <td>190227.46</td>\n",
       "      <td>1</td>\n",
       "      <td>1</td>\n",
       "      <td>0</td>\n",
       "      <td>97508.04</td>\n",
       "    </tr>\n",
       "    <tr>\n",
       "      <th>7270</th>\n",
       "      <td>697</td>\n",
       "      <td>51</td>\n",
       "      <td>1</td>\n",
       "      <td>147910.30</td>\n",
       "      <td>1</td>\n",
       "      <td>1</td>\n",
       "      <td>1</td>\n",
       "      <td>53581.14</td>\n",
       "    </tr>\n",
       "  </tbody>\n",
       "</table>\n",
       "<p>7500 rows × 8 columns</p>\n",
       "</div>"
      ],
      "text/plain": [
       "      credit_score  age  tenure    balance  products_number  credit_card  \\\n",
       "4901           673   59       0  178058.06                2            0   \n",
       "4375           850   41       8   60880.68                1            1   \n",
       "6698           725   31       6       0.00                1            0   \n",
       "9805           644   33       7  174571.36                1            0   \n",
       "1101           703   29       9       0.00                2            1   \n",
       "...            ...  ...     ...        ...              ...          ...   \n",
       "5734           768   54       8   69712.74                1            1   \n",
       "5191           682   58       1       0.00                1            1   \n",
       "5390           735   38       1       0.00                3            0   \n",
       "860            667   43       8  190227.46                1            1   \n",
       "7270           697   51       1  147910.30                1            1   \n",
       "\n",
       "      active_member  estimated_salary  \n",
       "4901              1          21063.71  \n",
       "4375              0          31825.84  \n",
       "6698              0          61326.43  \n",
       "9805              1          43943.09  \n",
       "1101              0          50679.48  \n",
       "...             ...               ...  \n",
       "5734              1          69381.05  \n",
       "5191              1            706.50  \n",
       "5390              0          92220.12  \n",
       "860               0          97508.04  \n",
       "7270              1          53581.14  \n",
       "\n",
       "[7500 rows x 8 columns]"
      ]
     },
     "execution_count": 12,
     "metadata": {},
     "output_type": "execute_result"
    }
   ],
   "source": [
    "# Separate the numeric data columns\n",
    "X_train_numeric = X_train.select_dtypes(include='number').copy()\n",
    "X_train_numeric"
   ]
  },
  {
   "cell_type": "code",
   "execution_count": 13,
   "metadata": {},
   "outputs": [
    {
     "data": {
      "text/html": [
       "<div>\n",
       "<style scoped>\n",
       "    .dataframe tbody tr th:only-of-type {\n",
       "        vertical-align: middle;\n",
       "    }\n",
       "\n",
       "    .dataframe tbody tr th {\n",
       "        vertical-align: top;\n",
       "    }\n",
       "\n",
       "    .dataframe thead th {\n",
       "        text-align: right;\n",
       "    }\n",
       "</style>\n",
       "<table border=\"1\" class=\"dataframe\">\n",
       "  <thead>\n",
       "    <tr style=\"text-align: right;\">\n",
       "      <th></th>\n",
       "      <th>France</th>\n",
       "      <th>Germany</th>\n",
       "      <th>Spain</th>\n",
       "      <th>Female</th>\n",
       "      <th>Male</th>\n",
       "    </tr>\n",
       "  </thead>\n",
       "  <tbody>\n",
       "    <tr>\n",
       "      <th>4901</th>\n",
       "      <td>1.0</td>\n",
       "      <td>0.0</td>\n",
       "      <td>0.0</td>\n",
       "      <td>0.0</td>\n",
       "      <td>1.0</td>\n",
       "    </tr>\n",
       "    <tr>\n",
       "      <th>4375</th>\n",
       "      <td>0.0</td>\n",
       "      <td>1.0</td>\n",
       "      <td>0.0</td>\n",
       "      <td>0.0</td>\n",
       "      <td>1.0</td>\n",
       "    </tr>\n",
       "    <tr>\n",
       "      <th>6698</th>\n",
       "      <td>1.0</td>\n",
       "      <td>0.0</td>\n",
       "      <td>0.0</td>\n",
       "      <td>1.0</td>\n",
       "      <td>0.0</td>\n",
       "    </tr>\n",
       "    <tr>\n",
       "      <th>9805</th>\n",
       "      <td>1.0</td>\n",
       "      <td>0.0</td>\n",
       "      <td>0.0</td>\n",
       "      <td>0.0</td>\n",
       "      <td>1.0</td>\n",
       "    </tr>\n",
       "    <tr>\n",
       "      <th>1101</th>\n",
       "      <td>0.0</td>\n",
       "      <td>0.0</td>\n",
       "      <td>1.0</td>\n",
       "      <td>0.0</td>\n",
       "      <td>1.0</td>\n",
       "    </tr>\n",
       "    <tr>\n",
       "      <th>...</th>\n",
       "      <td>...</td>\n",
       "      <td>...</td>\n",
       "      <td>...</td>\n",
       "      <td>...</td>\n",
       "      <td>...</td>\n",
       "    </tr>\n",
       "    <tr>\n",
       "      <th>5734</th>\n",
       "      <td>1.0</td>\n",
       "      <td>0.0</td>\n",
       "      <td>0.0</td>\n",
       "      <td>0.0</td>\n",
       "      <td>1.0</td>\n",
       "    </tr>\n",
       "    <tr>\n",
       "      <th>5191</th>\n",
       "      <td>1.0</td>\n",
       "      <td>0.0</td>\n",
       "      <td>0.0</td>\n",
       "      <td>1.0</td>\n",
       "      <td>0.0</td>\n",
       "    </tr>\n",
       "    <tr>\n",
       "      <th>5390</th>\n",
       "      <td>1.0</td>\n",
       "      <td>0.0</td>\n",
       "      <td>0.0</td>\n",
       "      <td>1.0</td>\n",
       "      <td>0.0</td>\n",
       "    </tr>\n",
       "    <tr>\n",
       "      <th>860</th>\n",
       "      <td>1.0</td>\n",
       "      <td>0.0</td>\n",
       "      <td>0.0</td>\n",
       "      <td>0.0</td>\n",
       "      <td>1.0</td>\n",
       "    </tr>\n",
       "    <tr>\n",
       "      <th>7270</th>\n",
       "      <td>0.0</td>\n",
       "      <td>1.0</td>\n",
       "      <td>0.0</td>\n",
       "      <td>0.0</td>\n",
       "      <td>1.0</td>\n",
       "    </tr>\n",
       "  </tbody>\n",
       "</table>\n",
       "<p>7500 rows × 5 columns</p>\n",
       "</div>"
      ],
      "text/plain": [
       "      France  Germany  Spain  Female  Male\n",
       "4901     1.0      0.0    0.0     0.0   1.0\n",
       "4375     0.0      1.0    0.0     0.0   1.0\n",
       "6698     1.0      0.0    0.0     1.0   0.0\n",
       "9805     1.0      0.0    0.0     0.0   1.0\n",
       "1101     0.0      0.0    1.0     0.0   1.0\n",
       "...      ...      ...    ...     ...   ...\n",
       "5734     1.0      0.0    0.0     0.0   1.0\n",
       "5191     1.0      0.0    0.0     1.0   0.0\n",
       "5390     1.0      0.0    0.0     1.0   0.0\n",
       "860      1.0      0.0    0.0     0.0   1.0\n",
       "7270     0.0      1.0    0.0     0.0   1.0\n",
       "\n",
       "[7500 rows x 5 columns]"
      ]
     },
     "execution_count": 13,
     "metadata": {},
     "output_type": "execute_result"
    }
   ],
   "source": [
    "# convert categorical variables into dummy one-hot encoded variables\n",
    "ohe = OneHotEncoder(handle_unknown=\"ignore\", sparse_output=False)\n",
    "\n",
    "ohe.fit(X_train_categorical)\n",
    "X_train_ohe = pd.DataFrame(\n",
    "    ohe.transform(X_train_categorical),\n",
    "    index=X_train_categorical.index,\n",
    "    columns=np.hstack(ohe.categories_)\n",
    ")\n",
    "X_train_ohe"
   ]
  },
  {
   "cell_type": "code",
   "execution_count": 14,
   "metadata": {},
   "outputs": [
    {
     "data": {
      "text/html": [
       "<div>\n",
       "<style scoped>\n",
       "    .dataframe tbody tr th:only-of-type {\n",
       "        vertical-align: middle;\n",
       "    }\n",
       "\n",
       "    .dataframe tbody tr th {\n",
       "        vertical-align: top;\n",
       "    }\n",
       "\n",
       "    .dataframe thead th {\n",
       "        text-align: right;\n",
       "    }\n",
       "</style>\n",
       "<table border=\"1\" class=\"dataframe\">\n",
       "  <thead>\n",
       "    <tr style=\"text-align: right;\">\n",
       "      <th></th>\n",
       "      <th>credit_score</th>\n",
       "      <th>age</th>\n",
       "      <th>tenure</th>\n",
       "      <th>balance</th>\n",
       "      <th>products_number</th>\n",
       "      <th>credit_card</th>\n",
       "      <th>active_member</th>\n",
       "      <th>estimated_salary</th>\n",
       "      <th>France</th>\n",
       "      <th>Germany</th>\n",
       "      <th>Spain</th>\n",
       "      <th>Female</th>\n",
       "      <th>Male</th>\n",
       "    </tr>\n",
       "  </thead>\n",
       "  <tbody>\n",
       "    <tr>\n",
       "      <th>4901</th>\n",
       "      <td>673</td>\n",
       "      <td>59</td>\n",
       "      <td>0</td>\n",
       "      <td>178058.06</td>\n",
       "      <td>2</td>\n",
       "      <td>0</td>\n",
       "      <td>1</td>\n",
       "      <td>21063.71</td>\n",
       "      <td>1.0</td>\n",
       "      <td>0.0</td>\n",
       "      <td>0.0</td>\n",
       "      <td>0.0</td>\n",
       "      <td>1.0</td>\n",
       "    </tr>\n",
       "    <tr>\n",
       "      <th>4375</th>\n",
       "      <td>850</td>\n",
       "      <td>41</td>\n",
       "      <td>8</td>\n",
       "      <td>60880.68</td>\n",
       "      <td>1</td>\n",
       "      <td>1</td>\n",
       "      <td>0</td>\n",
       "      <td>31825.84</td>\n",
       "      <td>0.0</td>\n",
       "      <td>1.0</td>\n",
       "      <td>0.0</td>\n",
       "      <td>0.0</td>\n",
       "      <td>1.0</td>\n",
       "    </tr>\n",
       "    <tr>\n",
       "      <th>6698</th>\n",
       "      <td>725</td>\n",
       "      <td>31</td>\n",
       "      <td>6</td>\n",
       "      <td>0.00</td>\n",
       "      <td>1</td>\n",
       "      <td>0</td>\n",
       "      <td>0</td>\n",
       "      <td>61326.43</td>\n",
       "      <td>1.0</td>\n",
       "      <td>0.0</td>\n",
       "      <td>0.0</td>\n",
       "      <td>1.0</td>\n",
       "      <td>0.0</td>\n",
       "    </tr>\n",
       "    <tr>\n",
       "      <th>9805</th>\n",
       "      <td>644</td>\n",
       "      <td>33</td>\n",
       "      <td>7</td>\n",
       "      <td>174571.36</td>\n",
       "      <td>1</td>\n",
       "      <td>0</td>\n",
       "      <td>1</td>\n",
       "      <td>43943.09</td>\n",
       "      <td>1.0</td>\n",
       "      <td>0.0</td>\n",
       "      <td>0.0</td>\n",
       "      <td>0.0</td>\n",
       "      <td>1.0</td>\n",
       "    </tr>\n",
       "    <tr>\n",
       "      <th>1101</th>\n",
       "      <td>703</td>\n",
       "      <td>29</td>\n",
       "      <td>9</td>\n",
       "      <td>0.00</td>\n",
       "      <td>2</td>\n",
       "      <td>1</td>\n",
       "      <td>0</td>\n",
       "      <td>50679.48</td>\n",
       "      <td>0.0</td>\n",
       "      <td>0.0</td>\n",
       "      <td>1.0</td>\n",
       "      <td>0.0</td>\n",
       "      <td>1.0</td>\n",
       "    </tr>\n",
       "    <tr>\n",
       "      <th>...</th>\n",
       "      <td>...</td>\n",
       "      <td>...</td>\n",
       "      <td>...</td>\n",
       "      <td>...</td>\n",
       "      <td>...</td>\n",
       "      <td>...</td>\n",
       "      <td>...</td>\n",
       "      <td>...</td>\n",
       "      <td>...</td>\n",
       "      <td>...</td>\n",
       "      <td>...</td>\n",
       "      <td>...</td>\n",
       "      <td>...</td>\n",
       "    </tr>\n",
       "    <tr>\n",
       "      <th>5734</th>\n",
       "      <td>768</td>\n",
       "      <td>54</td>\n",
       "      <td>8</td>\n",
       "      <td>69712.74</td>\n",
       "      <td>1</td>\n",
       "      <td>1</td>\n",
       "      <td>1</td>\n",
       "      <td>69381.05</td>\n",
       "      <td>1.0</td>\n",
       "      <td>0.0</td>\n",
       "      <td>0.0</td>\n",
       "      <td>0.0</td>\n",
       "      <td>1.0</td>\n",
       "    </tr>\n",
       "    <tr>\n",
       "      <th>5191</th>\n",
       "      <td>682</td>\n",
       "      <td>58</td>\n",
       "      <td>1</td>\n",
       "      <td>0.00</td>\n",
       "      <td>1</td>\n",
       "      <td>1</td>\n",
       "      <td>1</td>\n",
       "      <td>706.50</td>\n",
       "      <td>1.0</td>\n",
       "      <td>0.0</td>\n",
       "      <td>0.0</td>\n",
       "      <td>1.0</td>\n",
       "      <td>0.0</td>\n",
       "    </tr>\n",
       "    <tr>\n",
       "      <th>5390</th>\n",
       "      <td>735</td>\n",
       "      <td>38</td>\n",
       "      <td>1</td>\n",
       "      <td>0.00</td>\n",
       "      <td>3</td>\n",
       "      <td>0</td>\n",
       "      <td>0</td>\n",
       "      <td>92220.12</td>\n",
       "      <td>1.0</td>\n",
       "      <td>0.0</td>\n",
       "      <td>0.0</td>\n",
       "      <td>1.0</td>\n",
       "      <td>0.0</td>\n",
       "    </tr>\n",
       "    <tr>\n",
       "      <th>860</th>\n",
       "      <td>667</td>\n",
       "      <td>43</td>\n",
       "      <td>8</td>\n",
       "      <td>190227.46</td>\n",
       "      <td>1</td>\n",
       "      <td>1</td>\n",
       "      <td>0</td>\n",
       "      <td>97508.04</td>\n",
       "      <td>1.0</td>\n",
       "      <td>0.0</td>\n",
       "      <td>0.0</td>\n",
       "      <td>0.0</td>\n",
       "      <td>1.0</td>\n",
       "    </tr>\n",
       "    <tr>\n",
       "      <th>7270</th>\n",
       "      <td>697</td>\n",
       "      <td>51</td>\n",
       "      <td>1</td>\n",
       "      <td>147910.30</td>\n",
       "      <td>1</td>\n",
       "      <td>1</td>\n",
       "      <td>1</td>\n",
       "      <td>53581.14</td>\n",
       "      <td>0.0</td>\n",
       "      <td>1.0</td>\n",
       "      <td>0.0</td>\n",
       "      <td>0.0</td>\n",
       "      <td>1.0</td>\n",
       "    </tr>\n",
       "  </tbody>\n",
       "</table>\n",
       "<p>7500 rows × 13 columns</p>\n",
       "</div>"
      ],
      "text/plain": [
       "      credit_score  age  tenure    balance  products_number  credit_card  \\\n",
       "4901           673   59       0  178058.06                2            0   \n",
       "4375           850   41       8   60880.68                1            1   \n",
       "6698           725   31       6       0.00                1            0   \n",
       "9805           644   33       7  174571.36                1            0   \n",
       "1101           703   29       9       0.00                2            1   \n",
       "...            ...  ...     ...        ...              ...          ...   \n",
       "5734           768   54       8   69712.74                1            1   \n",
       "5191           682   58       1       0.00                1            1   \n",
       "5390           735   38       1       0.00                3            0   \n",
       "860            667   43       8  190227.46                1            1   \n",
       "7270           697   51       1  147910.30                1            1   \n",
       "\n",
       "      active_member  estimated_salary  France  Germany  Spain  Female  Male  \n",
       "4901              1          21063.71     1.0      0.0    0.0     0.0   1.0  \n",
       "4375              0          31825.84     0.0      1.0    0.0     0.0   1.0  \n",
       "6698              0          61326.43     1.0      0.0    0.0     1.0   0.0  \n",
       "9805              1          43943.09     1.0      0.0    0.0     0.0   1.0  \n",
       "1101              0          50679.48     0.0      0.0    1.0     0.0   1.0  \n",
       "...             ...               ...     ...      ...    ...     ...   ...  \n",
       "5734              1          69381.05     1.0      0.0    0.0     0.0   1.0  \n",
       "5191              1            706.50     1.0      0.0    0.0     1.0   0.0  \n",
       "5390              0          92220.12     1.0      0.0    0.0     1.0   0.0  \n",
       "860               0          97508.04     1.0      0.0    0.0     0.0   1.0  \n",
       "7270              1          53581.14     0.0      1.0    0.0     0.0   1.0  \n",
       "\n",
       "[7500 rows x 13 columns]"
      ]
     },
     "execution_count": 14,
     "metadata": {},
     "output_type": "execute_result"
    }
   ],
   "source": [
    "# At this stage, we concatenate the onehot encoded data and the numeric data  \n",
    "X_train_full = pd.concat([X_train_numeric, X_train_ohe], axis=1)\n",
    "X_train_full"
   ]
  },
  {
   "cell_type": "markdown",
   "metadata": {},
   "source": [
    "**iii. Normalizing/standardizing numeric features**\n",
    "\n",
    "Since the features are on different scales,as seen during EDA, some features may impact the model more heavily than others. We thus normalize all features to a consistent scale using a StandardScaler. This scaled data will be used for model types that require scaling i.e. Logistic regression. The unscaled data will be used in model types that don't require scaling i.e Decision trees and Random forest."
   ]
  },
  {
   "cell_type": "code",
   "execution_count": 15,
   "metadata": {},
   "outputs": [
    {
     "data": {
      "text/html": [
       "<div>\n",
       "<style scoped>\n",
       "    .dataframe tbody tr th:only-of-type {\n",
       "        vertical-align: middle;\n",
       "    }\n",
       "\n",
       "    .dataframe tbody tr th {\n",
       "        vertical-align: top;\n",
       "    }\n",
       "\n",
       "    .dataframe thead th {\n",
       "        text-align: right;\n",
       "    }\n",
       "</style>\n",
       "<table border=\"1\" class=\"dataframe\">\n",
       "  <thead>\n",
       "    <tr style=\"text-align: right;\">\n",
       "      <th></th>\n",
       "      <th>credit_score</th>\n",
       "      <th>age</th>\n",
       "      <th>tenure</th>\n",
       "      <th>balance</th>\n",
       "      <th>products_number</th>\n",
       "      <th>credit_card</th>\n",
       "      <th>active_member</th>\n",
       "      <th>estimated_salary</th>\n",
       "      <th>France</th>\n",
       "      <th>Germany</th>\n",
       "      <th>Spain</th>\n",
       "      <th>Female</th>\n",
       "      <th>Male</th>\n",
       "    </tr>\n",
       "  </thead>\n",
       "  <tbody>\n",
       "    <tr>\n",
       "      <th>4901</th>\n",
       "      <td>0.218351</td>\n",
       "      <td>1.916619</td>\n",
       "      <td>-1.731689</td>\n",
       "      <td>1.629928</td>\n",
       "      <td>0.813111</td>\n",
       "      <td>-1.539736</td>\n",
       "      <td>0.969789</td>\n",
       "      <td>-1.382844</td>\n",
       "      <td>1.000533</td>\n",
       "      <td>-0.577761</td>\n",
       "      <td>-0.577350</td>\n",
       "      <td>-0.911867</td>\n",
       "      <td>0.911867</td>\n",
       "    </tr>\n",
       "    <tr>\n",
       "      <th>4375</th>\n",
       "      <td>2.057280</td>\n",
       "      <td>0.202109</td>\n",
       "      <td>1.041750</td>\n",
       "      <td>-0.246244</td>\n",
       "      <td>-0.911043</td>\n",
       "      <td>0.649462</td>\n",
       "      <td>-1.031152</td>\n",
       "      <td>-1.195890</td>\n",
       "      <td>-0.999467</td>\n",
       "      <td>1.730820</td>\n",
       "      <td>-0.577350</td>\n",
       "      <td>-0.911867</td>\n",
       "      <td>0.911867</td>\n",
       "    </tr>\n",
       "    <tr>\n",
       "      <th>6698</th>\n",
       "      <td>0.758602</td>\n",
       "      <td>-0.750397</td>\n",
       "      <td>0.348390</td>\n",
       "      <td>-1.221027</td>\n",
       "      <td>-0.911043</td>\n",
       "      <td>-1.539736</td>\n",
       "      <td>-1.031152</td>\n",
       "      <td>-0.683422</td>\n",
       "      <td>1.000533</td>\n",
       "      <td>-0.577761</td>\n",
       "      <td>-0.577350</td>\n",
       "      <td>1.096651</td>\n",
       "      <td>-1.096651</td>\n",
       "    </tr>\n",
       "    <tr>\n",
       "      <th>9805</th>\n",
       "      <td>-0.082942</td>\n",
       "      <td>-0.559895</td>\n",
       "      <td>0.695070</td>\n",
       "      <td>1.574101</td>\n",
       "      <td>-0.911043</td>\n",
       "      <td>-1.539736</td>\n",
       "      <td>0.969789</td>\n",
       "      <td>-0.985396</td>\n",
       "      <td>1.000533</td>\n",
       "      <td>-0.577761</td>\n",
       "      <td>-0.577350</td>\n",
       "      <td>-0.911867</td>\n",
       "      <td>0.911867</td>\n",
       "    </tr>\n",
       "    <tr>\n",
       "      <th>1101</th>\n",
       "      <td>0.530034</td>\n",
       "      <td>-0.940898</td>\n",
       "      <td>1.388429</td>\n",
       "      <td>-1.221027</td>\n",
       "      <td>0.813111</td>\n",
       "      <td>0.649462</td>\n",
       "      <td>-1.031152</td>\n",
       "      <td>-0.868375</td>\n",
       "      <td>-0.999467</td>\n",
       "      <td>-0.577761</td>\n",
       "      <td>1.732051</td>\n",
       "      <td>-0.911867</td>\n",
       "      <td>0.911867</td>\n",
       "    </tr>\n",
       "    <tr>\n",
       "      <th>...</th>\n",
       "      <td>...</td>\n",
       "      <td>...</td>\n",
       "      <td>...</td>\n",
       "      <td>...</td>\n",
       "      <td>...</td>\n",
       "      <td>...</td>\n",
       "      <td>...</td>\n",
       "      <td>...</td>\n",
       "      <td>...</td>\n",
       "      <td>...</td>\n",
       "      <td>...</td>\n",
       "      <td>...</td>\n",
       "      <td>...</td>\n",
       "    </tr>\n",
       "    <tr>\n",
       "      <th>5734</th>\n",
       "      <td>1.205347</td>\n",
       "      <td>1.440366</td>\n",
       "      <td>1.041750</td>\n",
       "      <td>-0.104830</td>\n",
       "      <td>-0.911043</td>\n",
       "      <td>0.649462</td>\n",
       "      <td>0.969789</td>\n",
       "      <td>-0.543502</td>\n",
       "      <td>1.000533</td>\n",
       "      <td>-0.577761</td>\n",
       "      <td>-0.577350</td>\n",
       "      <td>-0.911867</td>\n",
       "      <td>0.911867</td>\n",
       "    </tr>\n",
       "    <tr>\n",
       "      <th>5191</th>\n",
       "      <td>0.311856</td>\n",
       "      <td>1.821368</td>\n",
       "      <td>-1.385009</td>\n",
       "      <td>-1.221027</td>\n",
       "      <td>-0.911043</td>\n",
       "      <td>0.649462</td>\n",
       "      <td>0.969789</td>\n",
       "      <td>-1.736478</td>\n",
       "      <td>1.000533</td>\n",
       "      <td>-0.577761</td>\n",
       "      <td>-0.577350</td>\n",
       "      <td>1.096651</td>\n",
       "      <td>-1.096651</td>\n",
       "    </tr>\n",
       "    <tr>\n",
       "      <th>5390</th>\n",
       "      <td>0.862496</td>\n",
       "      <td>-0.083643</td>\n",
       "      <td>-1.385009</td>\n",
       "      <td>-1.221027</td>\n",
       "      <td>2.537266</td>\n",
       "      <td>-1.539736</td>\n",
       "      <td>-1.031152</td>\n",
       "      <td>-0.146754</td>\n",
       "      <td>1.000533</td>\n",
       "      <td>-0.577761</td>\n",
       "      <td>-0.577350</td>\n",
       "      <td>1.096651</td>\n",
       "      <td>-1.096651</td>\n",
       "    </tr>\n",
       "    <tr>\n",
       "      <th>860</th>\n",
       "      <td>0.156015</td>\n",
       "      <td>0.392610</td>\n",
       "      <td>1.041750</td>\n",
       "      <td>1.824777</td>\n",
       "      <td>-0.911043</td>\n",
       "      <td>0.649462</td>\n",
       "      <td>-1.031152</td>\n",
       "      <td>-0.054895</td>\n",
       "      <td>1.000533</td>\n",
       "      <td>-0.577761</td>\n",
       "      <td>-0.577350</td>\n",
       "      <td>-0.911867</td>\n",
       "      <td>0.911867</td>\n",
       "    </tr>\n",
       "    <tr>\n",
       "      <th>7270</th>\n",
       "      <td>0.467698</td>\n",
       "      <td>1.154615</td>\n",
       "      <td>-1.385009</td>\n",
       "      <td>1.147221</td>\n",
       "      <td>-0.911043</td>\n",
       "      <td>0.649462</td>\n",
       "      <td>0.969789</td>\n",
       "      <td>-0.817969</td>\n",
       "      <td>-0.999467</td>\n",
       "      <td>1.730820</td>\n",
       "      <td>-0.577350</td>\n",
       "      <td>-0.911867</td>\n",
       "      <td>0.911867</td>\n",
       "    </tr>\n",
       "  </tbody>\n",
       "</table>\n",
       "<p>7500 rows × 13 columns</p>\n",
       "</div>"
      ],
      "text/plain": [
       "      credit_score       age    tenure   balance  products_number  \\\n",
       "4901      0.218351  1.916619 -1.731689  1.629928         0.813111   \n",
       "4375      2.057280  0.202109  1.041750 -0.246244        -0.911043   \n",
       "6698      0.758602 -0.750397  0.348390 -1.221027        -0.911043   \n",
       "9805     -0.082942 -0.559895  0.695070  1.574101        -0.911043   \n",
       "1101      0.530034 -0.940898  1.388429 -1.221027         0.813111   \n",
       "...            ...       ...       ...       ...              ...   \n",
       "5734      1.205347  1.440366  1.041750 -0.104830        -0.911043   \n",
       "5191      0.311856  1.821368 -1.385009 -1.221027        -0.911043   \n",
       "5390      0.862496 -0.083643 -1.385009 -1.221027         2.537266   \n",
       "860       0.156015  0.392610  1.041750  1.824777        -0.911043   \n",
       "7270      0.467698  1.154615 -1.385009  1.147221        -0.911043   \n",
       "\n",
       "      credit_card  active_member  estimated_salary    France   Germany  \\\n",
       "4901    -1.539736       0.969789         -1.382844  1.000533 -0.577761   \n",
       "4375     0.649462      -1.031152         -1.195890 -0.999467  1.730820   \n",
       "6698    -1.539736      -1.031152         -0.683422  1.000533 -0.577761   \n",
       "9805    -1.539736       0.969789         -0.985396  1.000533 -0.577761   \n",
       "1101     0.649462      -1.031152         -0.868375 -0.999467 -0.577761   \n",
       "...           ...            ...               ...       ...       ...   \n",
       "5734     0.649462       0.969789         -0.543502  1.000533 -0.577761   \n",
       "5191     0.649462       0.969789         -1.736478  1.000533 -0.577761   \n",
       "5390    -1.539736      -1.031152         -0.146754  1.000533 -0.577761   \n",
       "860      0.649462      -1.031152         -0.054895  1.000533 -0.577761   \n",
       "7270     0.649462       0.969789         -0.817969 -0.999467  1.730820   \n",
       "\n",
       "         Spain    Female      Male  \n",
       "4901 -0.577350 -0.911867  0.911867  \n",
       "4375 -0.577350 -0.911867  0.911867  \n",
       "6698 -0.577350  1.096651 -1.096651  \n",
       "9805 -0.577350 -0.911867  0.911867  \n",
       "1101  1.732051 -0.911867  0.911867  \n",
       "...        ...       ...       ...  \n",
       "5734 -0.577350 -0.911867  0.911867  \n",
       "5191 -0.577350  1.096651 -1.096651  \n",
       "5390 -0.577350  1.096651 -1.096651  \n",
       "860  -0.577350 -0.911867  0.911867  \n",
       "7270 -0.577350 -0.911867  0.911867  \n",
       "\n",
       "[7500 rows x 13 columns]"
      ]
     },
     "execution_count": 15,
     "metadata": {},
     "output_type": "execute_result"
    }
   ],
   "source": [
    "# Instantiate StandardScaler\n",
    "scaler = StandardScaler()\n",
    "# Fit to the training data numeric features\n",
    "scaler.fit(X_train_full)\n",
    "# Transform the training data\n",
    "X_train_full_scaled = pd.DataFrame(\n",
    "    scaler.transform(X_train_full),\n",
    "    index=X_train_full.index,\n",
    "    columns=X_train_full.columns\n",
    ")\n",
    "X_train_full_scaled"
   ]
  },
  {
   "cell_type": "markdown",
   "metadata": {},
   "source": [
    "**iv. Preprocess the test data separately**\n",
    "\n",
    "* The test data is preprocessed separately to avoid data leakage. The same preprocessing steps carried out for training data apply, paying attention not to fit transformers on test data.\n",
    "* Test data will be used to evaluate the model's performance on unseen data. "
   ]
  },
  {
   "cell_type": "code",
   "execution_count": 16,
   "metadata": {},
   "outputs": [
    {
     "data": {
      "text/html": [
       "<div>\n",
       "<style scoped>\n",
       "    .dataframe tbody tr th:only-of-type {\n",
       "        vertical-align: middle;\n",
       "    }\n",
       "\n",
       "    .dataframe tbody tr th {\n",
       "        vertical-align: top;\n",
       "    }\n",
       "\n",
       "    .dataframe thead th {\n",
       "        text-align: right;\n",
       "    }\n",
       "</style>\n",
       "<table border=\"1\" class=\"dataframe\">\n",
       "  <thead>\n",
       "    <tr style=\"text-align: right;\">\n",
       "      <th></th>\n",
       "      <th>credit_score</th>\n",
       "      <th>age</th>\n",
       "      <th>tenure</th>\n",
       "      <th>balance</th>\n",
       "      <th>products_number</th>\n",
       "      <th>credit_card</th>\n",
       "      <th>active_member</th>\n",
       "      <th>estimated_salary</th>\n",
       "      <th>France</th>\n",
       "      <th>Germany</th>\n",
       "      <th>Spain</th>\n",
       "      <th>Female</th>\n",
       "      <th>Male</th>\n",
       "    </tr>\n",
       "  </thead>\n",
       "  <tbody>\n",
       "    <tr>\n",
       "      <th>6252</th>\n",
       "      <td>-0.581635</td>\n",
       "      <td>-0.655146</td>\n",
       "      <td>-0.691649</td>\n",
       "      <td>0.327418</td>\n",
       "      <td>0.813111</td>\n",
       "      <td>-1.539736</td>\n",
       "      <td>-1.031152</td>\n",
       "      <td>-1.022827</td>\n",
       "      <td>-0.999467</td>\n",
       "      <td>1.730820</td>\n",
       "      <td>-0.577350</td>\n",
       "      <td>-0.911867</td>\n",
       "      <td>0.911867</td>\n",
       "    </tr>\n",
       "    <tr>\n",
       "      <th>4684</th>\n",
       "      <td>-0.301120</td>\n",
       "      <td>0.392610</td>\n",
       "      <td>-1.385009</td>\n",
       "      <td>-1.221027</td>\n",
       "      <td>0.813111</td>\n",
       "      <td>0.649462</td>\n",
       "      <td>0.969789</td>\n",
       "      <td>0.794069</td>\n",
       "      <td>1.000533</td>\n",
       "      <td>-0.577761</td>\n",
       "      <td>-0.577350</td>\n",
       "      <td>-0.911867</td>\n",
       "      <td>0.911867</td>\n",
       "    </tr>\n",
       "    <tr>\n",
       "      <th>1731</th>\n",
       "      <td>-0.529688</td>\n",
       "      <td>0.487861</td>\n",
       "      <td>-0.344970</td>\n",
       "      <td>-1.221027</td>\n",
       "      <td>0.813111</td>\n",
       "      <td>0.649462</td>\n",
       "      <td>-1.031152</td>\n",
       "      <td>-0.731457</td>\n",
       "      <td>-0.999467</td>\n",
       "      <td>-0.577761</td>\n",
       "      <td>1.732051</td>\n",
       "      <td>1.096651</td>\n",
       "      <td>-1.096651</td>\n",
       "    </tr>\n",
       "    <tr>\n",
       "      <th>4742</th>\n",
       "      <td>-1.516684</td>\n",
       "      <td>1.916619</td>\n",
       "      <td>1.041750</td>\n",
       "      <td>0.686762</td>\n",
       "      <td>0.813111</td>\n",
       "      <td>0.649462</td>\n",
       "      <td>0.969789</td>\n",
       "      <td>1.216203</td>\n",
       "      <td>-0.999467</td>\n",
       "      <td>1.730820</td>\n",
       "      <td>-0.577350</td>\n",
       "      <td>-0.911867</td>\n",
       "      <td>0.911867</td>\n",
       "    </tr>\n",
       "    <tr>\n",
       "      <th>4521</th>\n",
       "      <td>-0.955654</td>\n",
       "      <td>-1.131399</td>\n",
       "      <td>0.695070</td>\n",
       "      <td>0.780331</td>\n",
       "      <td>-0.911043</td>\n",
       "      <td>0.649462</td>\n",
       "      <td>0.969789</td>\n",
       "      <td>0.243229</td>\n",
       "      <td>-0.999467</td>\n",
       "      <td>-0.577761</td>\n",
       "      <td>1.732051</td>\n",
       "      <td>1.096651</td>\n",
       "      <td>-1.096651</td>\n",
       "    </tr>\n",
       "    <tr>\n",
       "      <th>...</th>\n",
       "      <td>...</td>\n",
       "      <td>...</td>\n",
       "      <td>...</td>\n",
       "      <td>...</td>\n",
       "      <td>...</td>\n",
       "      <td>...</td>\n",
       "      <td>...</td>\n",
       "      <td>...</td>\n",
       "      <td>...</td>\n",
       "      <td>...</td>\n",
       "      <td>...</td>\n",
       "      <td>...</td>\n",
       "      <td>...</td>\n",
       "    </tr>\n",
       "    <tr>\n",
       "      <th>4862</th>\n",
       "      <td>-0.072553</td>\n",
       "      <td>1.535617</td>\n",
       "      <td>-1.385009</td>\n",
       "      <td>0.919320</td>\n",
       "      <td>-0.911043</td>\n",
       "      <td>-1.539736</td>\n",
       "      <td>0.969789</td>\n",
       "      <td>-1.451778</td>\n",
       "      <td>-0.999467</td>\n",
       "      <td>-0.577761</td>\n",
       "      <td>1.732051</td>\n",
       "      <td>1.096651</td>\n",
       "      <td>-1.096651</td>\n",
       "    </tr>\n",
       "    <tr>\n",
       "      <th>7025</th>\n",
       "      <td>-0.862150</td>\n",
       "      <td>1.154615</td>\n",
       "      <td>-0.691649</td>\n",
       "      <td>-1.221027</td>\n",
       "      <td>2.537266</td>\n",
       "      <td>0.649462</td>\n",
       "      <td>-1.031152</td>\n",
       "      <td>-0.444417</td>\n",
       "      <td>-0.999467</td>\n",
       "      <td>-0.577761</td>\n",
       "      <td>1.732051</td>\n",
       "      <td>1.096651</td>\n",
       "      <td>-1.096651</td>\n",
       "    </tr>\n",
       "    <tr>\n",
       "      <th>7647</th>\n",
       "      <td>1.205347</td>\n",
       "      <td>-1.321900</td>\n",
       "      <td>-1.731689</td>\n",
       "      <td>0.034202</td>\n",
       "      <td>-0.911043</td>\n",
       "      <td>0.649462</td>\n",
       "      <td>0.969789</td>\n",
       "      <td>-1.604287</td>\n",
       "      <td>1.000533</td>\n",
       "      <td>-0.577761</td>\n",
       "      <td>-0.577350</td>\n",
       "      <td>-0.911867</td>\n",
       "      <td>0.911867</td>\n",
       "    </tr>\n",
       "    <tr>\n",
       "      <th>7161</th>\n",
       "      <td>0.394972</td>\n",
       "      <td>-0.274144</td>\n",
       "      <td>0.348390</td>\n",
       "      <td>0.547918</td>\n",
       "      <td>-0.911043</td>\n",
       "      <td>-1.539736</td>\n",
       "      <td>-1.031152</td>\n",
       "      <td>-0.336586</td>\n",
       "      <td>1.000533</td>\n",
       "      <td>-0.577761</td>\n",
       "      <td>-0.577350</td>\n",
       "      <td>1.096651</td>\n",
       "      <td>-1.096651</td>\n",
       "    </tr>\n",
       "    <tr>\n",
       "      <th>73</th>\n",
       "      <td>-0.498519</td>\n",
       "      <td>-1.321900</td>\n",
       "      <td>0.001710</td>\n",
       "      <td>1.305262</td>\n",
       "      <td>0.813111</td>\n",
       "      <td>0.649462</td>\n",
       "      <td>0.969789</td>\n",
       "      <td>-0.733793</td>\n",
       "      <td>-0.999467</td>\n",
       "      <td>1.730820</td>\n",
       "      <td>-0.577350</td>\n",
       "      <td>1.096651</td>\n",
       "      <td>-1.096651</td>\n",
       "    </tr>\n",
       "  </tbody>\n",
       "</table>\n",
       "<p>2500 rows × 13 columns</p>\n",
       "</div>"
      ],
      "text/plain": [
       "      credit_score       age    tenure   balance  products_number  \\\n",
       "6252     -0.581635 -0.655146 -0.691649  0.327418         0.813111   \n",
       "4684     -0.301120  0.392610 -1.385009 -1.221027         0.813111   \n",
       "1731     -0.529688  0.487861 -0.344970 -1.221027         0.813111   \n",
       "4742     -1.516684  1.916619  1.041750  0.686762         0.813111   \n",
       "4521     -0.955654 -1.131399  0.695070  0.780331        -0.911043   \n",
       "...            ...       ...       ...       ...              ...   \n",
       "4862     -0.072553  1.535617 -1.385009  0.919320        -0.911043   \n",
       "7025     -0.862150  1.154615 -0.691649 -1.221027         2.537266   \n",
       "7647      1.205347 -1.321900 -1.731689  0.034202        -0.911043   \n",
       "7161      0.394972 -0.274144  0.348390  0.547918        -0.911043   \n",
       "73       -0.498519 -1.321900  0.001710  1.305262         0.813111   \n",
       "\n",
       "      credit_card  active_member  estimated_salary    France   Germany  \\\n",
       "6252    -1.539736      -1.031152         -1.022827 -0.999467  1.730820   \n",
       "4684     0.649462       0.969789          0.794069  1.000533 -0.577761   \n",
       "1731     0.649462      -1.031152         -0.731457 -0.999467 -0.577761   \n",
       "4742     0.649462       0.969789          1.216203 -0.999467  1.730820   \n",
       "4521     0.649462       0.969789          0.243229 -0.999467 -0.577761   \n",
       "...           ...            ...               ...       ...       ...   \n",
       "4862    -1.539736       0.969789         -1.451778 -0.999467 -0.577761   \n",
       "7025     0.649462      -1.031152         -0.444417 -0.999467 -0.577761   \n",
       "7647     0.649462       0.969789         -1.604287  1.000533 -0.577761   \n",
       "7161    -1.539736      -1.031152         -0.336586  1.000533 -0.577761   \n",
       "73       0.649462       0.969789         -0.733793 -0.999467  1.730820   \n",
       "\n",
       "         Spain    Female      Male  \n",
       "6252 -0.577350 -0.911867  0.911867  \n",
       "4684 -0.577350 -0.911867  0.911867  \n",
       "1731  1.732051  1.096651 -1.096651  \n",
       "4742 -0.577350 -0.911867  0.911867  \n",
       "4521  1.732051  1.096651 -1.096651  \n",
       "...        ...       ...       ...  \n",
       "4862  1.732051  1.096651 -1.096651  \n",
       "7025  1.732051  1.096651 -1.096651  \n",
       "7647 -0.577350 -0.911867  0.911867  \n",
       "7161 -0.577350  1.096651 -1.096651  \n",
       "73   -0.577350  1.096651 -1.096651  \n",
       "\n",
       "[2500 rows x 13 columns]"
      ]
     },
     "execution_count": 16,
     "metadata": {},
     "output_type": "execute_result"
    }
   ],
   "source": [
    "# Preprocess test data separately \n",
    "\n",
    "# i. Deal with categorical data for test data - using one hot encoding\n",
    "\n",
    "# Separate the categorical test data\n",
    "X_test_categorical = X_test.select_dtypes(exclude=[\"int64\", \"float64\"]).copy()\n",
    "\n",
    "# Separate the numeric test data\n",
    "X_test_numeric = X_test.select_dtypes(include='number').copy()\n",
    "\n",
    "# convert categorical test variables into dummy one-hot encoded variables\n",
    "X_test_ohe = pd.DataFrame(\n",
    "    ohe.transform(X_test_categorical),\n",
    "    index=X_test_categorical.index,\n",
    "    columns=np.hstack(ohe.categories_)\n",
    ")\n",
    "\n",
    "# at this stage we concatenate the one hot encoded data and the numeric data\n",
    "X_test_full = pd.concat([X_test_numeric, X_test_ohe], axis=1)\n",
    "\n",
    "# we normalize/standardize the test data\n",
    "X_test_full_scaled = pd.DataFrame(\n",
    "    scaler.transform(X_test_full),\n",
    "    index=X_test_full.index,\n",
    "    columns=X_test_full.columns\n",
    ")\n",
    "\n",
    "X_test_full_scaled"
   ]
  },
  {
   "cell_type": "markdown",
   "metadata": {},
   "source": [
    "<hr style=\"border:1px solid gray\">"
   ]
  },
  {
   "cell_type": "markdown",
   "metadata": {},
   "source": [
    "## 5.0 Data Modeling and Evaluation \n",
    "**Introduction**\n",
    "\n",
    "In order to bring clarity to the Client (ABC Bank), on the question of *'Which customers are likely to leave ABC Bank?'* we shall build and analyse several models; then propose for use to the client, the best performing one.  \n",
    "\n",
    "3 types of models shall be built as listed below;\n",
    "1. Logistic regression models\n",
    "2. Decision Trees models\n",
    "3. Random Forest models\n",
    "\n",
    "**Iterative Approach**\n",
    "\n",
    "An iterative approach will be adopted for data modelling, whereby, for each model type a baseline model will be prepared, followed by tuning of hyperparameters in creating iterative models and selecting the best estimator for that model type. This selection of the best performing classifier will be based on the performance as gauged by the evaluation metrics. Finally, we shall identify the overall best performing classifier and evaluate it's performance on test data. \n",
    "\n",
    "The modelling will follow this outlined fashion;\n",
    "\n",
    "    i. Logistic Regression Modelling\n",
    "        -Establish Baseline Logistic Regression model\n",
    "        -Create Iterative Logistic Regression models - and determine the best one \n",
    "    ii. Decision Trees Modelling\n",
    "        -Establish Baseline Decision Tree model\n",
    "        -Create Iterative Decision Tree models - and determine the best one \n",
    "    iii. Random Forest Modelling\n",
    "        -Establish Baseline Random Forest model\n",
    "        -Create Optimal Random Forest Iterative Model - using GridSearchCV\n",
    "        -Investigate Feature Importances of the Random Forest Models\n",
    "    iv. Evaluate the Overall Best Model    \n",
    "\n",
    "**Evaluation Metrics of models performance**\n",
    "\n",
    "For this project we shall use log loss and cross_val_score on the training data; to evaluate and compare the various models performance during iterative processes; as well as for comparing the different model types performance. A lower log loss would indicate a better performing model. Therefore, as we tune the hyperparameters of the various models, we will be hoping to minimize log loss.\n",
    "\n",
    "We shall make use of ROC curve and AUC, when investigating the best hyperparameters for some models.\n",
    "\n",
    "At the final stage, the overall best model shall be assessed using other evaluation metrics i.e.  Precision, Recall, Accuracy and f1 Score. A confusion matrix shall also be displayed for the overall best model."
   ]
  },
  {
   "cell_type": "markdown",
   "metadata": {},
   "source": [
    "<hr style=\"border:1px solid gray\">"
   ]
  },
  {
   "cell_type": "markdown",
   "metadata": {},
   "source": [
    "<img src=\"image_success-2081168_1280.jpg\" width=\"400\" height=\"50\" align=\"left\">"
   ]
  },
  {
   "cell_type": "markdown",
   "metadata": {},
   "source": [
    "Image by ar130405 from Pixabay"
   ]
  },
  {
   "cell_type": "markdown",
   "metadata": {},
   "source": [
    "### 5.1 Logistic Regression Modelling\n",
    "\n",
    "The first type of classification model we shall build is Logistic Regression Models. We will commence with a baseline model, followed by several iterations to tune the baseline model."
   ]
  },
  {
   "cell_type": "markdown",
   "metadata": {},
   "source": [
    "**5.1.1 Build a Baseline Logistic Regression Model**\n",
    "\n",
    "We start by establishing a baseline logistic regression model that makes use of the preprocessed data before scaling."
   ]
  },
  {
   "cell_type": "code",
   "execution_count": 17,
   "metadata": {},
   "outputs": [
    {
     "data": {
      "text/plain": [
       "0.48077734628995605"
      ]
     },
     "execution_count": 17,
     "metadata": {},
     "output_type": "execute_result"
    }
   ],
   "source": [
    "# Instantiate a LogisticRegression with random_state=42 for reproducibility\n",
    "logreg_baseline_model = LogisticRegression(random_state=42)\n",
    "\n",
    "# Use cross_val_score with scoring=\"neg_log_loss\" to evaluate the model on unscaled training data\n",
    "logreg_baseline_neg_log_loss_cv = cross_val_score(\n",
    "    logreg_baseline_model,\n",
    "    X_train_full,\n",
    "    y_train,\n",
    "    scoring=\"neg_log_loss\"\n",
    ")\n",
    "logreg_baseline_log_loss = -(logreg_baseline_neg_log_loss_cv.mean())\n",
    "logreg_baseline_log_loss"
   ]
  },
  {
   "cell_type": "code",
   "execution_count": 18,
   "metadata": {},
   "outputs": [
    {
     "data": {
      "text/plain": [
       "7.400963495898722"
      ]
     },
     "execution_count": 18,
     "metadata": {},
     "output_type": "execute_result"
    }
   ],
   "source": [
    "# log_loss of a 'dummy' model that would always predict the majority class (class 0)\n",
    "log_loss(y_train, np.zeros(len(y_train)))"
   ]
  },
  {
   "cell_type": "markdown",
   "metadata": {},
   "source": [
    "**Evaluation of performance of logistic regression baseline model**\n",
    "\n",
    "The logistic regression baseline model has a log loss of 0.48. \n",
    "For a 'dummy' model that would predict the majority class all the time (class 0), the log loss would be 7.4 (as illustrated above), so the baseline model is better than such a 'dummy' model. "
   ]
  },
  {
   "cell_type": "markdown",
   "metadata": {},
   "source": [
    "**5.1.2 Build iterative Logistic Regression Models**\n",
    "\n",
    "We then build iterative logistic regression models, with an aim to improve performance i.e. we desire to reduce the log loss by tuning the hyperparameters."
   ]
  },
  {
   "cell_type": "markdown",
   "metadata": {},
   "source": [
    "**5.1.2.1 1st iterative logistic regression model - uses scaled data**"
   ]
  },
  {
   "cell_type": "code",
   "execution_count": 19,
   "metadata": {},
   "outputs": [
    {
     "data": {
      "text/plain": [
       "0.4331177672066976"
      ]
     },
     "execution_count": 19,
     "metadata": {},
     "output_type": "execute_result"
    }
   ],
   "source": [
    "# Instantiate a LogisticRegression with random_state=42 for reproducibility\n",
    "logreg_model_1st_iteration = LogisticRegression(random_state=42)\n",
    "\n",
    "# Use cross_val_score with scoring=\"neg_log_loss\" to evaluate the model on the scaled training data\n",
    "logreg_1st_iter_neg_log_loss_cv = cross_val_score(\n",
    "    logreg_model_1st_iteration,\n",
    "    X_train_full_scaled,\n",
    "    y_train,\n",
    "    scoring=\"neg_log_loss\"\n",
    ")\n",
    "logreg_1st_iter_log_loss = -(logreg_1st_iter_neg_log_loss_cv.mean())\n",
    "logreg_1st_iter_log_loss"
   ]
  },
  {
   "cell_type": "markdown",
   "metadata": {},
   "source": [
    "**Evaluation of performance of 1st iteration of logistic regression model - addressing data scaling**\n",
    "\n",
    "This first iterative model that uses scaled data fares better with a log loss of 0.43 as compared to the baseline model that doesn't make use of scaled data and results in a log loss of 0.48. There is an improvement in performance as log loss reduces by 0.05."
   ]
  },
  {
   "cell_type": "markdown",
   "metadata": {},
   "source": [
    "**5.1.2.2  2nd iterative logistic regression model - uses SMOTE to address class imbalance**"
   ]
  },
  {
   "cell_type": "code",
   "execution_count": 20,
   "metadata": {},
   "outputs": [
    {
     "name": "stdout",
     "output_type": "stream",
     "text": [
      "Original class distribution:\n",
      "0    5960\n",
      "1    1540\n",
      "Name: churn, dtype: int64\n",
      "Synthetic sample class distribution: \n",
      "\n",
      "1    5960\n",
      "0    5960\n",
      "Name: churn, dtype: int64\n"
     ]
    }
   ],
   "source": [
    "# Utilize SMOTE on the scaled data to address class imbalance \n",
    "smote = SMOTE(random_state=42)\n",
    "X_train_resampled, y_train_resampled = smote.fit_resample(X_train_full_scaled, y_train)\n",
    "\n",
    "# Preview original class distribution\n",
    "print('Original class distribution:')\n",
    "print(y_train.value_counts()) \n",
    "\n",
    "# Preview synthetic sample class distribution\n",
    "print('Synthetic sample class distribution: \\n')\n",
    "print(pd.Series(y_train_resampled).value_counts()) \n"
   ]
  },
  {
   "cell_type": "code",
   "execution_count": 21,
   "metadata": {},
   "outputs": [
    {
     "data": {
      "text/plain": [
       "0.5751939414785899"
      ]
     },
     "execution_count": 21,
     "metadata": {},
     "output_type": "execute_result"
    }
   ],
   "source": [
    "# Instantiate a LogisticRegression with random_state=42 for reproducibility\n",
    "logreg_model_2nd_iteration = LogisticRegression(random_state=42)\n",
    "\n",
    "# Use cross_val_score with scoring=\"neg_log_loss\" to evaluate the model on preprocessed training data\n",
    "logreg_2nd_iter_neg_log_loss_cv = cross_val_score(\n",
    "    logreg_model_2nd_iteration,\n",
    "    X_train_resampled,\n",
    "    y_train_resampled,\n",
    "    scoring=\"neg_log_loss\"\n",
    ")\n",
    "\n",
    "logreg_2nd_iter_log_loss = -(logreg_2nd_iter_neg_log_loss_cv.mean())\n",
    "logreg_2nd_iter_log_loss"
   ]
  },
  {
   "cell_type": "markdown",
   "metadata": {},
   "source": [
    "**Evaluation of performance of 2nd iteration of logistic regression model - addressing class imbalance**\n",
    "\n",
    "The second iterative model that uses SMOTE to address class imbalance, fails to make an improvement. It has a log loss of approximately 0.57 therefore performs poorly compared to both the 1st iterative model that uses scaled data (log loss of 0.43) and the baseline logistic model (log loss of 0.48)."
   ]
  },
  {
   "cell_type": "markdown",
   "metadata": {},
   "source": [
    "**5.1.2.3  3rd iterative logistic regression model - SMOTE with different sampling strategy**"
   ]
  },
  {
   "cell_type": "code",
   "execution_count": 22,
   "metadata": {},
   "outputs": [
    {
     "name": "stdout",
     "output_type": "stream",
     "text": [
      "Original class distribution:\n",
      "0    5960\n",
      "1    1540\n",
      "Name: churn, dtype: int64\n",
      "Synthetic sample class distribution: \n",
      "\n",
      "0    5960\n",
      "1    1788\n",
      "Name: churn, dtype: int64\n"
     ]
    }
   ],
   "source": [
    "# This model iteration utilizes SMOTE with a different sampling ratio (0.3) i.e. ratio of \n",
    "# the number of samples in the minority class over the number of samples in the majority class\n",
    "# after resampling\n",
    "smote2 = SMOTE(random_state=42, sampling_strategy=0.3)\n",
    "X_train_resampled2, y_train_resampled2 = smote2.fit_resample(X_train_full_scaled, y_train)\n",
    "\n",
    "# Preview original class distribution\n",
    "print('Original class distribution:')\n",
    "print(y_train.value_counts()) \n",
    "\n",
    "# Preview synthetic sample class distribution\n",
    "print('Synthetic sample class distribution: \\n')\n",
    "print(pd.Series(y_train_resampled2).value_counts()) "
   ]
  },
  {
   "cell_type": "code",
   "execution_count": 23,
   "metadata": {},
   "outputs": [
    {
     "data": {
      "text/plain": [
       "0.45945921657886996"
      ]
     },
     "execution_count": 23,
     "metadata": {},
     "output_type": "execute_result"
    }
   ],
   "source": [
    "# Instantiate a LogisticRegression with random_state=42 for reproducibility\n",
    "logreg_model_3rd_iteration = LogisticRegression(random_state=42)\n",
    "\n",
    "# Use cross_val_score with scoring=\"neg_log_loss\" to evaluate the model on preprocessed training data\n",
    "logreg_3rd_iter_neg_log_loss_cv = cross_val_score(\n",
    "    logreg_model_3rd_iteration,\n",
    "    X_train_resampled2,\n",
    "    y_train_resampled2,\n",
    "    scoring=\"neg_log_loss\"\n",
    ")\n",
    "\n",
    "logreg_3rd_iter_log_loss = -(logreg_3rd_iter_neg_log_loss_cv.mean())\n",
    "logreg_3rd_iter_log_loss"
   ]
  },
  {
   "cell_type": "markdown",
   "metadata": {},
   "source": [
    "**Evaluation of performance of 3rd iteration of logistic regression model - SMOTE with different sampling strategy**\n",
    "\n",
    "The third iterative model that uses a different sampling strategy of 0.3 on SMOTE i.e.the number of samples in the minority class over the number of samples in the majority class after resampling, offers a slight improvement(log loss of approx 0.46) from the previous SMOTE model (log loss of 0.57). Nonetheless, the 1st iterative model that uses scaled data (log loss of 0.43) fares better compared to this model."
   ]
  },
  {
   "cell_type": "markdown",
   "metadata": {},
   "source": [
    "**5.1.2.4  4th iterative logistic regression model - reduce regularization by increasing C**"
   ]
  },
  {
   "cell_type": "code",
   "execution_count": 24,
   "metadata": {},
   "outputs": [
    {
     "data": {
      "text/plain": [
       "0.4331223599333119"
      ]
     },
     "execution_count": 24,
     "metadata": {},
     "output_type": "execute_result"
    }
   ],
   "source": [
    "# Instantiate a LogisticRegression with random_state=42 for reproducibility\n",
    "logreg_model_4th_iteration = LogisticRegression(random_state=42, C=1e5)\n",
    "\n",
    "# Use cross_val_score with scoring=\"neg_log_loss\" to evaluate the model on preprocessed training data\n",
    "logreg_4th_iter_neg_log_loss_cv = cross_val_score(\n",
    "    logreg_model_4th_iteration,\n",
    "    X_train_full_scaled,\n",
    "    y_train,\n",
    "    scoring=\"neg_log_loss\"\n",
    ")\n",
    "logreg_4th_iter_log_loss = -(logreg_4th_iter_neg_log_loss_cv.mean())\n",
    "logreg_4th_iter_log_loss\n"
   ]
  },
  {
   "cell_type": "markdown",
   "metadata": {},
   "source": [
    "**Evaluation of performance of 4th iteration of logistic regression model - reduce regularization by increasing C**\n",
    "\n",
    "The fourth iterative model aims to address underfitting if at all present in the model, by reducing regularization (via increasing of the C parameter).  With a log loss of 0.433122 it is almost in the range of our best performing model though offering just a slightly worse performance than this best model so far (the 1st iterative model that uses scaled data with a log loss of 0.433117)."
   ]
  },
  {
   "cell_type": "markdown",
   "metadata": {},
   "source": [
    "**5.1.2.5  5th iterative logistic regression model - increase regularization by decreasing C**"
   ]
  },
  {
   "cell_type": "code",
   "execution_count": 25,
   "metadata": {},
   "outputs": [
    {
     "data": {
      "text/plain": [
       "0.4330883400318517"
      ]
     },
     "execution_count": 25,
     "metadata": {},
     "output_type": "execute_result"
    }
   ],
   "source": [
    "# Instantiate a LogisticRegression with random_state=42 for reproducibility\n",
    "logreg_model_5th_iteration = LogisticRegression(random_state=42, C=0.1)\n",
    "\n",
    "# Use cross_val_score with scoring=\"neg_log_loss\" to evaluate the model on preprocessed training data\n",
    "logreg_5th_iter_neg_log_loss_cv = cross_val_score(\n",
    "    logreg_model_5th_iteration,\n",
    "    X_train_full_scaled,\n",
    "    y_train,\n",
    "    scoring=\"neg_log_loss\"\n",
    ")\n",
    "logreg_5th_iter_log_loss = -(logreg_5th_iter_neg_log_loss_cv.mean())\n",
    "logreg_5th_iter_log_loss\n"
   ]
  },
  {
   "cell_type": "markdown",
   "metadata": {},
   "source": [
    "**Evaluation of performance of 5th iteration of logistic regression model - increase regularization by decreasing C**\n",
    "\n",
    "The default C is 1.0, we reduce it slightly to 0.1 with an aim to increase regularization, therefore address any overfitting if present in this 5th iterative model. This model with a log loss of 0.433088 performs slightly better than the previously best model(the 1st iterative model that uses scaled data with a log loss of 0.433117) though it is only a very slight improvement in the magnitude of 0.00003.\n",
    "Henceforth, we use this parameter in the upcoming model iteration."
   ]
  },
  {
   "cell_type": "markdown",
   "metadata": {},
   "source": [
    "**5.1.2.6  6th iterative logistic regression model - use a different solver**"
   ]
  },
  {
   "cell_type": "code",
   "execution_count": 26,
   "metadata": {},
   "outputs": [
    {
     "data": {
      "text/plain": [
       "0.43305474304803065"
      ]
     },
     "execution_count": 26,
     "metadata": {},
     "output_type": "execute_result"
    }
   ],
   "source": [
    "# Instantiate a LogisticRegression with random_state=42 for reproducibility\n",
    "logreg_model_6th_iteration = LogisticRegression(\n",
    "    random_state=42,\n",
    "    C=0.1,\n",
    "    solver=\"saga\",\n",
    "    penalty=\"elasticnet\",\n",
    "    l1_ratio=0.5\n",
    ")\n",
    "\n",
    "# Use cross_val_score with scoring=\"neg_log_loss\" to evaluate the model on preprocessed training data\n",
    "logreg_6th_iter_neg_log_loss_cv = cross_val_score(\n",
    "    logreg_model_6th_iteration,\n",
    "    X_train_full_scaled,\n",
    "    y_train,\n",
    "    scoring=\"neg_log_loss\"\n",
    ")\n",
    "logreg_6th_iter_log_loss = -(logreg_6th_iter_neg_log_loss_cv.mean())\n",
    "logreg_6th_iter_log_loss"
   ]
  },
  {
   "cell_type": "markdown",
   "metadata": {},
   "source": [
    "**Evaluation of performance of 6th iteration of logistic regression model - use a different solver**\n",
    "\n",
    "The default solver for ligistic regression models that we have been using is 'lbfgs'. We try a different solver i.e. 'saga', with a penalty='elasticnet' and l1_ratio=0.5.This model with a log loss of 0.433054 performs slightly better than the previously best model(the 5th iterative model that increases regularization with a log loss of 0.433088) though it is only a very slight improvement in the magnitude of 0.000034. This is the best of the logistic regression models so far."
   ]
  },
  {
   "cell_type": "markdown",
   "metadata": {},
   "source": [
    "**5.1.3 Summary on Logistic Regression Modelling**\n",
    "\n",
    "We built a baseline model with unscaled data (log loss of 0.480777), and 6 iterative models by use of scaled data and tuning various parameters of the models. Improvement is noted on using scaled data (log loss of 0.433117), and further slight improvements noted upon increasing regularization by decreasing 'C' (log loss of 0.433088) and changing the solver to 'saga' from the default 'lbfgs' (log loss of 0.433054). \n",
    "\n",
    "Therefore, the best logistic model found, with a log loss of 0.433054, uses scaled data, increased regularization and makes use of 'saga' solver."
   ]
  },
  {
   "cell_type": "markdown",
   "metadata": {},
   "source": [
    "<hr style=\"border:1px solid gray\">"
   ]
  },
  {
   "cell_type": "markdown",
   "metadata": {},
   "source": [
    "### 5.2 Decision Tree Modelling\n",
    "\n",
    "The second model type we will create in aiming to help the client, ABC Bank predict customer turnover is Decision Tree. Just as previously, we will commence with a baseline model and then several iterations to tune the hyperparametrs of the model in the quest for a best performing estimator."
   ]
  },
  {
   "cell_type": "markdown",
   "metadata": {},
   "source": [
    "**5.2.1 Build a Baseline Decision Tree Model**\n",
    "\n",
    "We start by establishing a baseline Decision Tree model that makes use of the preprocessed data before scaling, since this is not a distance based model."
   ]
  },
  {
   "cell_type": "code",
   "execution_count": 27,
   "metadata": {},
   "outputs": [
    {
     "data": {
      "text/plain": [
       "7.698924363915424"
      ]
     },
     "execution_count": 27,
     "metadata": {},
     "output_type": "execute_result"
    }
   ],
   "source": [
    "# Instantiate the Baseline Decision Tree model\n",
    "dt_baseline_model = DecisionTreeClassifier(random_state=42)\n",
    "\n",
    "# Use cross_val_score with scoring=\"neg_log_loss\" to evaluate the model on the unscaled training data\n",
    "dt_baseline_log_loss = cross_val_score(dt_baseline_model,\n",
    "                                           X_train_full,\n",
    "                                           y_train,\n",
    "                                           scoring=\"neg_log_loss\")\n",
    "\n",
    "dt_baseline_log_loss = -(dt_baseline_log_loss.mean())\n",
    "\n",
    "dt_baseline_log_loss"
   ]
  },
  {
   "cell_type": "markdown",
   "metadata": {},
   "source": [
    "**Evaluation of performance of Decision Tree baseline model**\n",
    "\n",
    "The Decision tree baseline model has a log loss of approximately 7.7. This model performs worse than all the logistic regression models which had log loss ranging from approx 0.433 to 0.575. This performance is almost similar -indeed slightly worse- to a 'dummy' model that would predict the majority class all the time (class 0) as it would have a log loss of 7.4."
   ]
  },
  {
   "cell_type": "markdown",
   "metadata": {},
   "source": [
    "**5.2.2 Build iterative Decision Tree Models**\n",
    "\n",
    "Judging by the poor performance of the baseline Decision Tree model, it may be overfitting and thus some pruning/ tuning is necessary. We will therefore tune iterative Decision Tree models, hoping to improve performance by reducing log loss. \n",
    "\n",
    "For Decision trees modelling, we shall employ a different strategy to find a best model.This will comprise of first finding an optimal value of a hyperparameter from a range of values, using ROC curves and AUC to investigate the optimum. 3 key hyperparameters shall be investigated i.e. max_depth, min_samples_splits and min_samples_leafs. After finding an optimum parameter value, we shall create a model varying only that one parameter from the baseline and evaluate it's log loss. At the end, we shall build a final Decision Tree model using all 3 optimum hyperparameter values, provided they improved the logloss during the individual iterative model investigation."
   ]
  },
  {
   "cell_type": "markdown",
   "metadata": {},
   "source": [
    "**5.2.2.1 1st iterative Decision Tree  model - optimum max_depth**"
   ]
  },
  {
   "cell_type": "code",
   "execution_count": 28,
   "metadata": {},
   "outputs": [
    {
     "data": {
      "image/png": "[encoded data removed]",
      "text/plain": [
       "<Figure size 864x432 with 1 Axes>"
      ]
     },
     "metadata": {
      "needs_background": "light"
     },
     "output_type": "display_data"
    }
   ],
   "source": [
    "# for iterative model 1, we vary the max_depth of the tree\n",
    "# we begin by finding the optimal value of max_depth\n",
    "\n",
    "max_depths = list(range(1, 33))\n",
    "train_results = []\n",
    "test_results = []\n",
    "for max_depth in max_depths:\n",
    "    dt_1st = DecisionTreeClassifier(random_state=42, max_depth=max_depth)\n",
    "    dt_1st.fit(X_train_full, y_train)\n",
    "    train_pred = dt_1st.predict(X_train_full)\n",
    "    false_positive_rate, true_positive_rate, thresholds = roc_curve(y_train, train_pred)\n",
    "    roc_auc = auc(false_positive_rate, true_positive_rate)\n",
    "    # Add auc score to previous train results\n",
    "    train_results.append(roc_auc)\n",
    "    y_pred = dt_1st.predict(X_test_full)\n",
    "    false_positive_rate, true_positive_rate, thresholds = roc_curve(y_test, y_pred)\n",
    "    roc_auc = auc(false_positive_rate, true_positive_rate)\n",
    "    # Add auc score to previous test results\n",
    "    test_results.append(roc_auc)\n",
    "\n",
    "plt.figure(figsize=(12,6))\n",
    "plt.plot(max_depths, train_results, 'b', label='Train AUC')\n",
    "plt.plot(max_depths, test_results, 'r', label='Test AUC')\n",
    "plt.ylabel('AUC score')\n",
    "plt.xlabel('Tree depth')\n",
    "plt.legend()\n",
    "plt.show()"
   ]
  },
  {
   "cell_type": "markdown",
   "metadata": {},
   "source": [
    "A max_depth of around **6** seems to be optimal, we use this for building and evaluating the 1st iterative model"
   ]
  },
  {
   "cell_type": "code",
   "execution_count": 29,
   "metadata": {},
   "outputs": [
    {
     "data": {
      "text/plain": [
       "0.49068518648119086"
      ]
     },
     "execution_count": 29,
     "metadata": {},
     "output_type": "execute_result"
    }
   ],
   "source": [
    "# iterative model 1 with max_depth=6 as the only change from baseline model\n",
    "\n",
    "# Instantiate the Decision Tree model\n",
    "dt_model_1st_iteration = DecisionTreeClassifier(random_state=42, max_depth=6)\n",
    "\n",
    "# Use cross_val_score with scoring=\"neg_log_loss\" to evaluate the model on the unscaled training data\n",
    "dt_1st_iter_log_loss = cross_val_score(dt_model_1st_iteration,\n",
    "                                           X_train_full,\n",
    "                                           y_train,\n",
    "                                           scoring=\"neg_log_loss\")\n",
    "\n",
    "dt_1st_iter_log_loss = -(dt_1st_iter_log_loss.mean())\n",
    "\n",
    "dt_1st_iter_log_loss"
   ]
  },
  {
   "cell_type": "markdown",
   "metadata": {},
   "source": [
    "**Evaluation of performance of 1st iteration of Decision Tree model; max_depth=6** \n",
    "\n",
    "This 1st Decision Tree iteration performs much better (log loss of 0.49) than the baseline (log loss of 7.7). It is within range of the logistic regression models that ranged from 0.433 to 0.575."
   ]
  },
  {
   "cell_type": "markdown",
   "metadata": {},
   "source": [
    "**5.2.2.2  2nd iterative Decision Tree  model - optimum min_samples_splits**"
   ]
  },
  {
   "cell_type": "code",
   "execution_count": 30,
   "metadata": {},
   "outputs": [
    {
     "data": {
      "image/png": "[encoded data removed]",
      "text/plain": [
       "<Figure size 864x432 with 1 Axes>"
      ]
     },
     "metadata": {
      "needs_background": "light"
     },
     "output_type": "display_data"
    }
   ],
   "source": [
    "# for iterative model 2, we vary the min_samples_splits of the tree\n",
    "# we begin by finding the optimal value of min_samples_splits \n",
    "\n",
    "min_samples_splits = np.arange(10, 101)\n",
    "train_results = []\n",
    "test_results = []\n",
    "for min_samples_split in min_samples_splits:\n",
    "    dt_2nd = DecisionTreeClassifier(min_samples_split=min_samples_split, random_state=42)\n",
    "    dt_2nd.fit(X_train_full, y_train)\n",
    "    train_pred = dt_2nd.predict(X_train_full)\n",
    "    false_positive_rate, true_positive_rate, thresholds =    roc_curve(y_train, train_pred)\n",
    "    roc_auc = auc(false_positive_rate, true_positive_rate)\n",
    "    train_results.append(roc_auc)\n",
    "    y_pred = dt_2nd.predict(X_test_full)\n",
    "    false_positive_rate, true_positive_rate, thresholds = roc_curve(y_test, y_pred)\n",
    "    roc_auc = auc(false_positive_rate, true_positive_rate)\n",
    "    test_results.append(roc_auc)\n",
    "\n",
    "plt.figure(figsize=(12,6))\n",
    "plt.plot(min_samples_splits, train_results, 'b', label='Train AUC')\n",
    "plt.plot(min_samples_splits, test_results, 'r', label='Test AUC')\n",
    "plt.xlabel('Min. Sample splits')\n",
    "plt.legend()\n",
    "plt.show()"
   ]
  },
  {
   "cell_type": "markdown",
   "metadata": {},
   "source": [
    "A min_samples_split of around **91** seems to be optimal, we use this for building and evaluating the 2nd iterative model"
   ]
  },
  {
   "cell_type": "code",
   "execution_count": 31,
   "metadata": {},
   "outputs": [
    {
     "data": {
      "text/plain": [
       "0.9468049987982836"
      ]
     },
     "execution_count": 31,
     "metadata": {},
     "output_type": "execute_result"
    }
   ],
   "source": [
    "# Iterative model 2 with min_samples_split=91 as the only change from baseline model\n",
    "\n",
    "# Instantiate the Decision Tree model\n",
    "dt_model_2nd_iteration = DecisionTreeClassifier(random_state=42, min_samples_split=91)\n",
    "\n",
    "# Use cross_val_score with scoring=\"neg_log_loss\" to evaluate the model on the unscaled training data\n",
    "dt_2nd_iter_log_loss = cross_val_score(dt_model_2nd_iteration,\n",
    "                                           X_train_full,\n",
    "                                           y_train,\n",
    "                                           scoring=\"neg_log_loss\")\n",
    "\n",
    "dt_2nd_iter_log_loss = -(dt_2nd_iter_log_loss.mean())\n",
    "\n",
    "dt_2nd_iter_log_loss"
   ]
  },
  {
   "cell_type": "markdown",
   "metadata": {},
   "source": [
    "**Evaluation of performance of 2nd iteration of Decision Tree model; min_samples_split=91** \n",
    "\n",
    "This 2nd Decision Tree iteration, where we only change the min_samples_split, also performs better (log loss of 0.94) than the baseline model(log loss of 7.7). It is however slightly worse than both the 1st decision tree iteration model with change on max_depth (log loss of 0.49) and the logistic regression models (log loss of 0.433 to 0.575)."
   ]
  },
  {
   "cell_type": "markdown",
   "metadata": {},
   "source": [
    "**5.2.2.3  3rd iterative Decision Tree  model - optimum min_samples_leaf**"
   ]
  },
  {
   "cell_type": "code",
   "execution_count": 32,
   "metadata": {},
   "outputs": [
    {
     "data": {
      "image/png": "[encoded data removed]",
      "text/plain": [
       "<Figure size 864x432 with 1 Axes>"
      ]
     },
     "metadata": {
      "needs_background": "light"
     },
     "output_type": "display_data"
    }
   ],
   "source": [
    "# for iterative model 3, we vary the min_samples_leaf of the tree\n",
    "# we begin by finding the optimal value of min_samples_leaf\n",
    "\n",
    "min_samples_leafs = np.arange(1, 20)\n",
    "train_results = []\n",
    "test_results = []\n",
    "for min_samples_leaf in min_samples_leafs:\n",
    "    dt_3rd = DecisionTreeClassifier(min_samples_leaf=min_samples_leaf, random_state=42)\n",
    "    dt_3rd.fit(X_train_full, y_train)\n",
    "    train_pred = dt_3rd.predict(X_train_full)\n",
    "    false_positive_rate, true_positive_rate, thresholds = roc_curve(y_train, train_pred)\n",
    "    roc_auc = auc(false_positive_rate, true_positive_rate)\n",
    "    train_results.append(roc_auc)\n",
    "    y_pred = dt_3rd.predict(X_test_full)\n",
    "    false_positive_rate, true_positive_rate, thresholds = roc_curve(y_test, y_pred)\n",
    "    roc_auc = auc(false_positive_rate, true_positive_rate)\n",
    "    test_results.append(roc_auc)\n",
    "\n",
    "plt.figure(figsize=(12,6))    \n",
    "plt.plot(min_samples_leafs, train_results, 'b', label='Train AUC')\n",
    "plt.plot(min_samples_leafs, test_results, 'r', label='Test AUC')\n",
    "plt.ylabel('AUC score')\n",
    "plt.xlabel('Min. Sample Leafs')\n",
    "plt.legend()\n",
    "plt.show()\n"
   ]
  },
  {
   "cell_type": "markdown",
   "metadata": {},
   "source": [
    "A min_sample_leafs of around **16** seems to be optimal,  we use this for building and evaluating the 3rd iterative model"
   ]
  },
  {
   "cell_type": "code",
   "execution_count": 33,
   "metadata": {},
   "outputs": [
    {
     "data": {
      "text/plain": [
       "1.3306273228242476"
      ]
     },
     "execution_count": 33,
     "metadata": {},
     "output_type": "execute_result"
    }
   ],
   "source": [
    "# Iterative model 3 with min_samples_leaf=16 as the only change from baseline model\n",
    "\n",
    "# Instantiate the Decision Tree model\n",
    "dt_model_3rd_iteration = DecisionTreeClassifier(random_state=42, min_samples_leaf=16)\n",
    "\n",
    "# Use cross_val_score with scoring=\"neg_log_loss\" to evaluate the model on the unscaled training data\n",
    "dt_3rd_iter_log_loss = cross_val_score(dt_model_3rd_iteration,\n",
    "                                           X_train_full,\n",
    "                                           y_train,\n",
    "                                           scoring=\"neg_log_loss\")\n",
    "\n",
    "dt_3rd_iter_log_loss = -(dt_3rd_iter_log_loss.mean())\n",
    "\n",
    "dt_3rd_iter_log_loss"
   ]
  },
  {
   "cell_type": "markdown",
   "metadata": {},
   "source": [
    "**Evaluation of performance of 3rd iteration of Decision Tree model; min_samples_leaf=16** \n",
    "\n",
    "This 3rd Decision Tree iteration, where we only vary the min_samples_leaf, also performs better (log loss of 1.33) than the baseline (log loss of 7.7). However, it doesn't do as well in reducing the log loss as the previous decision tree iterations (with change in max_depth and min_samples_split and the earlier logistic regression models (log loss of 0.433 to 0.575)."
   ]
  },
  {
   "cell_type": "markdown",
   "metadata": {},
   "source": [
    "**5.2.2.4   4th iterative Decision Tree  model - vary all three parameters i.e. max_depth, min_samples_split and min_samples_leaf**"
   ]
  },
  {
   "cell_type": "code",
   "execution_count": 34,
   "metadata": {},
   "outputs": [
    {
     "data": {
      "text/plain": [
       "0.4056777987939791"
      ]
     },
     "execution_count": 34,
     "metadata": {},
     "output_type": "execute_result"
    }
   ],
   "source": [
    "# Iterative model 4 with max_depth=6, min_samples_split=91 and min_samples_leaf=16\n",
    "\n",
    "# Instantiate the Decision Tree model\n",
    "dt_model_4th_iteration = DecisionTreeClassifier(random_state=42,\n",
    "                                                max_depth=6,\n",
    "                                                min_samples_split=91,\n",
    "                                                min_samples_leaf=16)\n",
    "\n",
    "# Use cross_val_score with scoring=\"neg_log_loss\" to evaluate the model on the unscaled training data\n",
    "dt_4th_iter_log_loss = cross_val_score(dt_model_4th_iteration,\n",
    "                                           X_train_full,\n",
    "                                           y_train,\n",
    "                                           scoring=\"neg_log_loss\")\n",
    "\n",
    "dt_4th_iter_log_loss = -(dt_4th_iter_log_loss.mean())\n",
    "\n",
    "dt_4th_iter_log_loss"
   ]
  },
  {
   "cell_type": "markdown",
   "metadata": {},
   "source": [
    "**Evaluation of performance of 4th iteration of Decision Tree model; varying all three parameters i.e. max_depth, min_samples_split and min_samples_leaf** \n",
    "\n",
    "This final Decision Tree iteration, where we vary all three parameters using the optimum values we found in the previous iterations, produces a log loss of approx 0.406. This is the lowest logloss so far and therefore this is the best performing model so far for the decision trees as it's lower than the baseline decision tree log loss of 7.7 and the decision tree iterations models (with log loss of 0.49 to 1.33). This model also outperforms the earlier logistic regression models (with log loss of 0.433 to 0.575)."
   ]
  },
  {
   "cell_type": "markdown",
   "metadata": {},
   "source": [
    "**5.2.3 Summary on Decision Tree Modelling**\n",
    "\n",
    "We built a baseline  Decision Tree model with no tuning/pruning with a resultant log loss of 7.7; and 3 iterative models where we tuned different hyperparameters with resultant log loss of 0.49 to 1.33 and a final Decision Tree model with all hyperparameters of previous iterations. This final model is \n",
    "therefore, the best model found so far with a log loss of 0.406. It is the best of the Decision Tree and Logistic regression models. This model has a max_depth=6, min_samples_split=91 and            min_samples_leaf=16."
   ]
  },
  {
   "cell_type": "markdown",
   "metadata": {},
   "source": [
    "<hr style=\"border:1px solid gray\">"
   ]
  },
  {
   "cell_type": "markdown",
   "metadata": {},
   "source": [
    "### 5.3 Random Forest Modelling\n",
    "\n",
    "The third and final model type we will look into to provide ABC Bank with an optimal solution is Random Forest. Just as before, we will commence with a baseline model and then create iterative models to tune the hyperparameters of the model to hopefully get an even better performing model.\n",
    "\n",
    "GridSearchCV will be utilised this time round, in tuning the Random Forest model, unlike in the Logistic regression model where we kept varying parameters 'manually' i.e. one by one and unlike the Decision tree model tuning where we tried to get optimal parameters from a range of values individually for each parameter."
   ]
  },
  {
   "cell_type": "markdown",
   "metadata": {},
   "source": [
    "**5.3.1 Build a Baseline Random Forest Model**\n",
    "\n",
    "We start by establishing a baseline Random Forest model that makes use of the preprocessed data before scaling, since this is a tree based model which does not require data scaling."
   ]
  },
  {
   "cell_type": "code",
   "execution_count": 35,
   "metadata": {},
   "outputs": [
    {
     "data": {
      "text/plain": [
       "0.3805422560660256"
      ]
     },
     "execution_count": 35,
     "metadata": {},
     "output_type": "execute_result"
    }
   ],
   "source": [
    "# Instantiate the Random Forest model with default parameters\n",
    "forest_baseline_model = RandomForestClassifier(random_state=42)\n",
    "\n",
    "# Use cross_val_score with scoring=\"neg_log_loss\" to evaluate the model on the unscaled training data\n",
    "forest_baseline_log_loss = cross_val_score(forest_baseline_model,\n",
    "                                           X_train_full,\n",
    "                                           y_train,\n",
    "                                           scoring=\"neg_log_loss\")\n",
    "\n",
    "forest_baseline_log_loss = -(forest_baseline_log_loss.mean())\n",
    "\n",
    "forest_baseline_log_loss"
   ]
  },
  {
   "cell_type": "markdown",
   "metadata": {},
   "source": [
    "**Evaluation of baseline Random Forest model** \n",
    "\n",
    "The baseline Random Forest model with default parameters results in a log loss of 0.38. This is the best performing model so far compared to all the Logistic Regression Models (with log loss ranging from 0.433 to 0.575) and all the Decision Tree models (with log loss ranging from 0.406 to 7.7). Nonetheless, we would like to tune the model for even better performance."
   ]
  },
  {
   "cell_type": "markdown",
   "metadata": {},
   "source": [
    "**5.3.2 Using GridSearchCV Identify optimal Random Forest Models**\n",
    "\n",
    "Despite the Baseline Random Forest model producing the best log loss i.e. the lowest so far, we shall perform a hyperparameter tuning exercise to see if we can produce an even better model. \n",
    "\n",
    "For this exercise, we make use of GridSearchCV a combinatorial grid search to find an optimal combination of parameters for the baseline Random Forest model; unlike in the previous model types, where we tuned the parameters gradually. "
   ]
  },
  {
   "cell_type": "code",
   "execution_count": 36,
   "metadata": {},
   "outputs": [],
   "source": [
    "# define the parameter grid with different values; \n",
    "# choice of values will be guided by those used to tune the previous decision tree estimators\n",
    "param_grid = {\n",
    "    \"n_estimators\": [10, 30, 100],\n",
    "    \"criterion\": [\"gini\", \"entropy\"],\n",
    "    \"max_depth\": [None, 5, 6, 9],\n",
    "    \"min_samples_split\": [91, 115],\n",
    "    \"min_samples_leaf\": [16, 18],\n",
    "}"
   ]
  },
  {
   "cell_type": "code",
   "execution_count": 37,
   "metadata": {},
   "outputs": [
    {
     "name": "stdout",
     "output_type": "stream",
     "text": [
      "Optimal Parameters: {'criterion': 'entropy', 'max_depth': 9, 'min_samples_leaf': 16, 'min_samples_split': 91, 'n_estimators': 100}\n"
     ]
    }
   ],
   "source": [
    "# Instantiate GridSearchCV\n",
    "grid_search = GridSearchCV(forest_baseline_model, param_grid)\n",
    "grid_search.fit(X_train_full, y_train)\n",
    "\n",
    "print(f\"Optimal Parameters: {grid_search.best_params_}\")\n"
   ]
  },
  {
   "cell_type": "markdown",
   "metadata": {},
   "source": [
    "We use the optimal parameters from GridSearchCV to build the optimal Random Forest model and assess its performance."
   ]
  },
  {
   "cell_type": "code",
   "execution_count": 38,
   "metadata": {},
   "outputs": [
    {
     "data": {
      "text/plain": [
       "0.36447661039969464"
      ]
     },
     "execution_count": 38,
     "metadata": {},
     "output_type": "execute_result"
    }
   ],
   "source": [
    "# Instantiate the iterative Random forest model with optimal parameters from GridSearchCV\n",
    "forest_iterative_model = RandomForestClassifier(random_state=42,\n",
    "                                                criterion='entropy',\n",
    "                                                max_depth=9,\n",
    "                                                min_samples_leaf=16,\n",
    "                                                min_samples_split=91,\n",
    "                                                n_estimators=100)\n",
    "\n",
    "# Use cross_val_score with scoring=\"neg_log_loss\" to evaluate the model on the unscaled training data\n",
    "forest_iterative_log_loss = cross_val_score(forest_iterative_model,\n",
    "                                           X_train_full,\n",
    "                                           y_train,\n",
    "                                           scoring=\"neg_log_loss\")\n",
    "\n",
    "forest_iterative_log_loss = -(forest_iterative_log_loss.mean())\n",
    "\n",
    "forest_iterative_log_loss"
   ]
  },
  {
   "cell_type": "markdown",
   "metadata": {},
   "source": [
    "**Evaluation of Iterative Random Forest Models using GridSearchCV optimal parameters** \n",
    "\n",
    "The iterated Random Forest model tuned with hyperparameters resulting from GridSearchCV produces a log loss of 0.36, which is an improvement to the baseline Random Forest that uses default parameters with log loss of 0.38. This is the best performing model so far compared to all the previous Logistic Regression Models (with log loss ranging from 0.433 to 0.575) and all the Decision Tree models (with log loss ranging from 0.406 to 7.7)."
   ]
  },
  {
   "cell_type": "markdown",
   "metadata": {},
   "source": [
    "**5.3.3 Feature Importance**\n",
    "\n",
    "We also investigate and visualize how important each feature is to the Random Forest models."
   ]
  },
  {
   "cell_type": "code",
   "execution_count": 39,
   "metadata": {},
   "outputs": [
    {
     "data": {
      "image/png": "[encoded data removed]",
      "text/plain": [
       "<Figure size 576x576 with 1 Axes>"
      ]
     },
     "metadata": {
      "needs_background": "light"
     },
     "output_type": "display_data"
    }
   ],
   "source": [
    "# Investigate feature importance for baseline Random Forest model\n",
    "\n",
    "# fit the baseline Random forest model\n",
    "forest_baseline_model.fit(X_train_full, y_train)\n",
    "\n",
    "# function to plot feature importance\n",
    "def plot_feature_importances(model):\n",
    "    n_features = X_train_full.shape[1]\n",
    "    plt.figure(figsize=(8,8))\n",
    "    plt.barh(range(n_features), forest_baseline_model.feature_importances_, align='center') \n",
    "    plt.yticks(np.arange(n_features), X_train_full.columns.values) \n",
    "    plt.xlabel('Feature importance')\n",
    "    plt.ylabel('Feature')\n",
    "\n",
    "plot_feature_importances(forest_baseline_model)"
   ]
  },
  {
   "cell_type": "code",
   "execution_count": 40,
   "metadata": {},
   "outputs": [
    {
     "data": {
      "image/png": "[encoded data removed]",
      "text/plain": [
       "<Figure size 576x576 with 1 Axes>"
      ]
     },
     "metadata": {
      "needs_background": "light"
     },
     "output_type": "display_data"
    }
   ],
   "source": [
    "# Investigate feature importance for optimal Random Forest model\n",
    "\n",
    "# fit the optimal forest model\n",
    "forest_iterative_model.fit(X_train_full, y_train)\n",
    "\n",
    "# plot feature importance\n",
    "plot_feature_importances(forest_iterative_model)"
   ]
  },
  {
   "cell_type": "markdown",
   "metadata": {},
   "source": [
    "It's noted that age is the feature with highest importance to the model. We also note that credit_score, estimated salary and balance have significant import in both Random Forest models. Gender and country portray least importance."
   ]
  },
  {
   "cell_type": "markdown",
   "metadata": {},
   "source": [
    "**5.3.4 Summary on Random Forest Modelling**\n",
    "\n",
    "A baseline Random Forest model with default parameters as well as an optimal Random Forest with optimised parameters are built. The optimal Random forest model (with a log loss of 0.36) that uses GridSearchCV produced optimal parameters, outperforms all the previous models i.e. the Logistic Regression Models (with log loss ranging from 0.433 to 0.575), the Decision Tree models (with log loss ranging from 0.406 to 7.7) and the baseline Random Forest model  that uses default paramaters (with log loss of 0.38). \n",
    "\n",
    "We used GridSearchCV to provide a range of parameter values to work with, guided by the graphical displays of the previous Decision Tree Model iterations when preparing the parameter grid. This final and best model has the following parameters: criterion='entropy', max_depth=9, min_samples_leaf=16, min_samples_split=91 and n_estimators=100.   \n",
    "\n",
    "A check on features of importance reveals age as the feature of highest importance for the Random Forest models."
   ]
  },
  {
   "cell_type": "markdown",
   "metadata": {},
   "source": [
    "<hr style=\"border:1px solid gray\">"
   ]
  },
  {
   "cell_type": "markdown",
   "metadata": {},
   "source": [
    "### 5.4 Overall Best Model Evaluation\n",
    "\n",
    "3 model types have been built i.e. Logistic Regression, Decision Trees and Random Forest models. For each model type, we've began with a baseline model and then created iterative models by tuning the model hyperparameters. Log loss has been the metric of choice for comparing the various models' performance. However, we have used other model metrics for different applications e.g. when establishing the best parameters for tuning Decision trees we made use of ROC curves and AUC. \n",
    "\n",
    "After the extensive modelling involving 14 models (baseline and iterative models); the best performing model turned out to be the optimal Random Forest model with a log loss of 0.36. This model was built using optimal parameters established via GridSearchCV. The worst performing model was the baseline Decision Tree Model i.e. the untuned/unpruned model with a log loss of 7.7. \n",
    "\n",
    "In this final modelling step, we shall implement and evaluate this best overall model. We shall use this model to carry out predictions and evaluate it's performance metrics i.e. Precision, Recall, Accuracy and f1 Score. We shall also visualize a confusion matrix for the same."
   ]
  },
  {
   "cell_type": "code",
   "execution_count": 41,
   "metadata": {
    "scrolled": true
   },
   "outputs": [
    {
     "name": "stdout",
     "output_type": "stream",
     "text": [
      "Training Precision for best Random Forest model:  0.8657142857142858\n",
      "Testing Precision for best Random Forest model:  0.8590909090909091\n",
      "\n",
      "\n",
      "\n",
      "Training Recall for best Random Forest model:  0.3935064935064935\n",
      "Testing Recall for best Random Forest model:  0.38028169014084506\n",
      "\n",
      "\n",
      "\n",
      "Training Accuracy for best Random Forest model:  0.8629333333333333\n",
      "Testing Accuracy for best Random Forest model:  0.8644\n",
      "\n",
      "\n",
      "\n",
      "Training F1-Score for best Random Forest model:  0.5410714285714286\n",
      "Testing F1-Score for best Random Forest model:  0.5271966527196653\n"
     ]
    }
   ],
   "source": [
    "# Fit the model, on the training data only\n",
    "forest_iterative_model.fit(X_train_full, y_train)\n",
    "\n",
    "#  Predict on both the training and test data\n",
    "y_hat_train = forest_iterative_model.predict(X_train_full)\n",
    "y_hat_test = forest_iterative_model.predict(X_test_full)\n",
    "\n",
    "# Calculate precision, recall, accuracy, and F1 score of the best classifier on train and test data\n",
    "print('Training Precision for best Random Forest model: ', precision_score(y_train, y_hat_train))\n",
    "print('Testing Precision for best Random Forest model: ', precision_score(y_test, y_hat_test))\n",
    "print('\\n\\n')\n",
    "\n",
    "print('Training Recall for best Random Forest model: ', recall_score(y_train, y_hat_train))\n",
    "print('Testing Recall for best Random Forest model: ', recall_score(y_test, y_hat_test))\n",
    "print('\\n\\n')\n",
    "\n",
    "print('Training Accuracy for best Random Forest model: ', accuracy_score(y_train, y_hat_train))\n",
    "print('Testing Accuracy for best Random Forest model: ', accuracy_score(y_test, y_hat_test))\n",
    "print('\\n\\n')\n",
    "\n",
    "print('Training F1-Score for best Random Forest model: ', f1_score(y_train, y_hat_train))\n",
    "print('Testing F1-Score for best Random Forest model: ', f1_score(y_test, y_hat_test))"
   ]
  },
  {
   "cell_type": "code",
   "execution_count": 42,
   "metadata": {},
   "outputs": [
    {
     "data": {
      "image/png": "[encoded data removed]",
      "text/plain": [
       "<Figure size 432x288 with 2 Axes>"
      ]
     },
     "metadata": {
      "needs_background": "light"
     },
     "output_type": "display_data"
    }
   ],
   "source": [
    "# Visualize the confusion matrix of the overall best model, on the test set\n",
    "cm = confusion_matrix(y_test, y_hat_test, labels=forest_iterative_model.classes_)\n",
    "disp = ConfusionMatrixDisplay(confusion_matrix=cm, display_labels=forest_iterative_model.classes_)\n",
    "disp.plot()\n",
    "plt.grid(False) \n",
    "plt.show()"
   ]
  },
  {
   "cell_type": "markdown",
   "metadata": {},
   "source": [
    "**Evaluation of the Overall Best Model - the Random Forest Model with GridSearchCV optimal parameters** \n",
    "\n",
    "With an accuracy of 86%, this model would assign the correct label about 86% of the time. This is better than a 'dummy' model - that would always predict the majority class (class 0) i.e a model that always predicted that no customer would leave the bank. Such a dummy model, would have an accuracy of 79.6%.\n",
    "\n",
    "The recall score is quite low at about 38% on the testing data; whereas the Precision is relatively higher at about 86%. This means that our model will miss out on a good number of customers who are leaving, and by the time it prescribes a customer as leaving, it will almost always be correct. This might be tolerable depending on the client's plans for those customers who are leaving. On the other hand, if the Bank wants to identify as many customers who are about to leave including being willing to err on the side of identifying 'loyal' customers as potential 'leavers', say for the purpose of carrying out mitigation measures to prevent this attrition, the model may have to be adjusted to allow for a higher recall and lower precision. The confusion matrix displays the distribution of the various predicted data versus true data for the test set. These would be theinputs to the calculations of the evaluation metrics of Recall, Precision, Accuracy and f1 Score.\n",
    "\n",
    "There may be need for further tuning of the model to improve on the f1 score which is relatively low at 53% for our overall best model.\n",
    "\n",
    "The training and test scores for each of the metrics are generally quite close, implying our overall best model is not overfitting. "
   ]
  },
  {
   "cell_type": "markdown",
   "metadata": {},
   "source": [
    "<hr style=\"border:1px solid gray\">"
   ]
  },
  {
   "cell_type": "markdown",
   "metadata": {},
   "source": [
    "## 6.0 Conclusions, Recommendations and Next Steps"
   ]
  },
  {
   "cell_type": "markdown",
   "metadata": {},
   "source": [
    "<img src=\"image_coins-1523383_1280.jpg\" width=\"300\" height=\"50\" align=\"left\">"
   ]
  },
  {
   "cell_type": "markdown",
   "metadata": {},
   "source": [
    "Image by Steve Buissinne from Pixabay"
   ]
  },
  {
   "cell_type": "markdown",
   "metadata": {},
   "source": [
    "### Conclusions\n",
    "\n",
    "The aim of this project analysis was to create a classification model for the client, ABC Multinational Bank, for use in predictions of customers that may leave the Bank. In predicting customer attrition (churn),  the client desires to create and implement intervention strategies targeting these customers with an aim to retain them before they actualize their exit. As well, the Bank would be able to make more informed decisions when it comes to offering certain products such as loans to its customers.\n",
    "\n",
    "3 types of classification models were built starting with their baseline then iterative models i.e.\n",
    "* Logistic Regression models\n",
    "* Decision Tree models\n",
    "* Random Forest models\n",
    "\n",
    "Tuning of hyperparameters to produce best models for each model type, using an iterative approach is done. Taking into account models produced by the various iterations, a total of 14 models are built with varying logloss. The optimised Random Forest model emerges the best performing model with a log loss of 0.36 against the other models with log loss of 0.38 to 7.7. This model is evaluated for its performance against certain metrics. In particular the model Recall is noted to be relatively low, while the Precision is relatively higher. Importance of features to the Random Forest models is also investigated. From the foregoing observations, the following recommendations will be made to the client, ABC Multinational Bank.\n",
    " \n",
    "### Recommendations\n",
    "1. The client will be advised to make use of the overall best model to predict customers that are likely to leave the Bank and target intervention strategies on these clients, aiming to retain them before they exit. \n",
    "2. This model may not be sufficient to decide on best candidates for provision of loans, especially judging from the performance of some evaluation metrics, and thus the client should be cautious in utilising it as such. \n",
    "3. The client will be advised to particularly pay attention to age of customers, credit_score, estimated salary and balance as features of importance in determining attrition. As such, the client should bear these aspects in mind when designing intervention strategies to retain customers.\n",
    "\n",
    "### Next Steps\n",
    "For additional insights, further analysis is proposed in the following areas;\n",
    "* Further tuning is proposed of the hyperparameters of the best performing model in order to lead to better performance metrics particularly the f1 Score. This further analysis could include use of XGBoost.\n",
    "* Adjustment of the model's Recall and Precision could be done in line with the focus of the Bank. A further discussion with the Bank to understand their needs and focus is needed e.g. *are the intervention measures likely to be too costly, in which case, the client would want a model that is even more precise?* "
   ]
  },
  {
   "cell_type": "code",
   "execution_count": null,
   "metadata": {},
   "outputs": [],
   "source": []
  }
 ],
 "metadata": {
  "kernelspec": {
   "display_name": "Python (learn-env)",
   "language": "python",
   "name": "learn-env"
  },
  "language_info": {
   "codemirror_mode": {
    "name": "ipython",
    "version": 3
   },
   "file_extension": ".py",
   "mimetype": "text/x-python",
   "name": "python",
   "nbconvert_exporter": "python",
   "pygments_lexer": "ipython3",
   "version": "3.8.5"
  }
 },
 "nbformat": 4,
 "nbformat_minor": 4
}
